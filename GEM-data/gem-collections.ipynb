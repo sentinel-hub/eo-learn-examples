{
 "cells": [
  {
   "cell_type": "markdown",
   "id": "c79950bf-068c-4498-b7a2-71c138150378",
   "metadata": {},
   "source": [
    "# Examples showcasing GEM EO BYOC data collections"
   ]
  },
  {
   "cell_type": "markdown",
   "id": "e786afd8-91dd-4377-8508-590adecbbe29",
   "metadata": {},
   "source": [
    "This is a notebook showcasing workflow examples for downloading EO data from BYOC data collections available through Sentinel Hub.\n",
    "\n",
    "### Data download examples in this notebook:\n",
    "\n",
    "1.  Sentinel-2 L2A mosaic for Africa\n",
    "\n",
    "2.  Meteoblue weather data for Africa\n"
   ]
  },
  {
   "cell_type": "code",
   "execution_count": 1,
   "id": "c9d74e4e-32bb-48f8-a762-600c34d4f7b0",
   "metadata": {},
   "outputs": [],
   "source": [
    "%matplotlib inline\n",
    "\n",
    "import math\n",
    "\n",
    "import matplotlib.pyplot as plt\n",
    "import numpy as np\n",
    "\n",
    "from eolearn.core import FeatureType\n",
    "from eolearn.io import SentinelHubEvalscriptTask\n",
    "from sentinelhub import CRS, Band, BBox, DataCollection, Unit"
   ]
  },
  {
   "cell_type": "code",
   "execution_count": 2,
   "id": "061fada1-8fbf-418f-ab04-d33628b1ea6a",
   "metadata": {},
   "outputs": [],
   "source": [
    "bbox = BBox(bbox=[-18, 1, 27.5, 28], crs=CRS.WGS84)"
   ]
  },
  {
   "cell_type": "code",
   "execution_count": 3,
   "id": "e390008c-a274-46da-8521-b8f1e8c9e78a",
   "metadata": {},
   "outputs": [],
   "source": [
    "def evalscript_template(bands, sample_type):\n",
    "    evaluate_pixel = \", \".join(f\"sample.{band}\" for band in bands)\n",
    "    return f\"\"\"\n",
    "    //VERSION=3\n",
    "    function setup() {{\n",
    "      return {{\n",
    "        input: {bands},\n",
    "        output: [\n",
    "            {{\n",
    "              id: \"bands\",\n",
    "              bands: {len(bands)},\n",
    "              sampleType: \"{sample_type}\"\n",
    "            }}\n",
    "        ]\n",
    "      }};\n",
    "    }}\n",
    "    function evaluatePixel(sample) {{\n",
    "      return [{evaluate_pixel}];\n",
    "    }}\n",
    "    \"\"\""
   ]
  },
  {
   "cell_type": "markdown",
   "id": "6a46d440-5308-4237-be59-e9335b4d3d61",
   "metadata": {},
   "source": [
    "## Sentinel-2 L2A mosaic for Africa"
   ]
  },
  {
   "cell_type": "code",
   "execution_count": 4,
   "id": "63bc31b3-cd16-4ede-bb4d-899e3836ca49",
   "metadata": {},
   "outputs": [],
   "source": [
    "band_names = [\"B01\", \"B02\", \"B03\", \"B04\", \"B05\", \"B06\", \"B07\", \"B08\", \"B09\", \"B11\", \"B12\", \"B8A\"]\n",
    "\n",
    "africa_s2_data_collection = DataCollection.define_byoc(\n",
    "    \"fe60e85f-0648-4c54-b2dc-bbf725033813\",\n",
    "    service_url=\"https://services.sentinel-hub.com\",\n",
    "    bands=[Band(name=name, units=(Unit.DN,), output_types=(np.uint16,)) for name in band_names],\n",
    ")"
   ]
  },
  {
   "cell_type": "code",
   "execution_count": 5,
   "id": "31d868ba-39b0-4897-a303-82fdc5a7a61d",
   "metadata": {},
   "outputs": [],
   "source": [
    "download_task = SentinelHubEvalscriptTask(\n",
    "    features=(FeatureType.DATA, \"bands\"),\n",
    "    evalscript=evalscript_template(band_names, \"UINT16\"),\n",
    "    data_collection=africa_s2_data_collection,\n",
    "    resolution=5000,\n",
    "    max_threads=3,\n",
    ")"
   ]
  },
  {
   "cell_type": "code",
   "execution_count": null,
   "id": "d998c4d2-9b05-45ff-ac31-48da0e1a8323",
   "metadata": {},
   "outputs": [],
   "source": [
    "eopatch = download_task.execute(bbox=bbox, time_interval=[\"2020-08-01\", \"2020-08-30\"])"
   ]
  },
  {
   "cell_type": "code",
   "execution_count": null,
   "id": "46e0629d-e9db-41f5-a50a-8b509958207d",
   "metadata": {},
   "outputs": [],
   "source": [
    "eopatch"
   ]
  },
  {
   "cell_type": "code",
   "execution_count": null,
   "id": "32eb8a43-8faa-4db3-bf8b-b108db6d537a",
   "metadata": {},
   "outputs": [],
   "source": [
    "def plot(title, names, data):\n",
    "    ncols = 3\n",
    "    nrows = math.ceil(len(data) / 3)\n",
    "\n",
    "    fig, ax = plt.subplots(ncols=ncols, nrows=nrows, figsize=(15, 4 * nrows))\n",
    "    fig.suptitle(title, y=0.93, size=16)\n",
    "\n",
    "    for idx, _ in enumerate(data):\n",
    "        ax[idx // ncols][idx % ncols].imshow(data[idx])\n",
    "        ax[idx // ncols][idx % ncols].set_title(names[idx], size=12)\n",
    "        ax[idx // ncols][idx % ncols].get_xaxis().set_visible(False)\n",
    "        ax[idx // ncols][idx % ncols].get_yaxis().set_visible(False)"
   ]
  },
  {
   "cell_type": "code",
   "execution_count": null,
   "id": "bfe1e6f4-6194-4c0c-8888-f57913c7802b",
   "metadata": {},
   "outputs": [],
   "source": [
    "plot(\n",
    "    \"Africa s2 data collection\",\n",
    "    band_names,\n",
    "    [eopatch.data[\"bands\"][0][..., idx].squeeze() for idx, _ in enumerate(band_names)],\n",
    ")"
   ]
  },
  {
   "cell_type": "code",
   "execution_count": null,
   "id": "ab5d20e1-54ff-4f39-8061-ab91b61c6e20",
   "metadata": {},
   "outputs": [],
   "source": [
    "download_task_true_color = SentinelHubEvalscriptTask(\n",
    "    features=(FeatureType.DATA, \"bands\"),\n",
    "    evalscript=evalscript_template([\"B02\", \"B03\", \"B04\"], \"UINT16\"),\n",
    "    data_collection=africa_s2_data_collection,\n",
    "    resolution=5000,\n",
    "    max_threads=3,\n",
    ")"
   ]
  },
  {
   "cell_type": "code",
   "execution_count": null,
   "id": "794fb9c2-283b-4f41-ab2f-5e46d6f491ec",
   "metadata": {},
   "outputs": [],
   "source": [
    "eopatch_true_color = download_task_true_color.execute(bbox=bbox, time_interval=[\"2020-01-01\", \"2020-12-30\"])"
   ]
  },
  {
   "cell_type": "code",
   "execution_count": null,
   "id": "e14a94ec-20d3-49e4-bbb5-49dc5dbcf04e",
   "metadata": {},
   "outputs": [],
   "source": [
    "eopatch_true_color"
   ]
  },
  {
   "cell_type": "code",
   "execution_count": null,
   "id": "ea69851a-f9b5-4154-8ed7-b9c5ad312a82",
   "metadata": {},
   "outputs": [],
   "source": [
    "names_true_color = [str(eopatch_true_color.timestamp[idx])[:10] for idx, _ in enumerate(eopatch_true_color.timestamp)]\n",
    "data_true_color = [\n",
    "    np.clip(eopatch_true_color.data[\"bands\"][idx][..., [2, 1, 0]] / 10000 * 3, 0, 1)\n",
    "    for idx, _ in enumerate(eopatch_true_color.timestamp)\n",
    "]\n",
    "\n",
    "plot(\"True color\", names_true_color, data_true_color)"
   ]
  },
  {
   "cell_type": "markdown",
   "id": "821752a8-78ae-4763-974d-d0105a031a01",
   "metadata": {},
   "source": [
    "## Meteoblue weather data for Africa"
   ]
  },
  {
   "cell_type": "code",
   "execution_count": null,
   "id": "6008e9c9-3f43-4add-aad3-fb372b7788df",
   "metadata": {},
   "outputs": [],
   "source": [
    "band_names = [\n",
    "    \"CLOUD_COVER_TOTAL\",\n",
    "    \"HUMIDITY\",\n",
    "    \"PRECIPITATION\",\n",
    "    \"PRESSURE\",\n",
    "    \"SOIL_MOISTURE\",\n",
    "    \"SUN_DURATION\",\n",
    "    \"TEMPERATURE\",\n",
    "    \"VAPOR_PRESSURE_DEFICIT\",\n",
    "    \"WIND\",\n",
    "]\n",
    "\n",
    "S2_africa_weather_data_collection = DataCollection.define_byoc(\n",
    "    \"0013507a-de28-4800-a890-394c493a51a3\",\n",
    "    service_url=\"https://services.sentinel-hub.com\",\n",
    "    bands=[Band(name=name, units=(Unit.DN,), output_types=(np.float32,)) for name in band_names],\n",
    ")"
   ]
  },
  {
   "cell_type": "code",
   "execution_count": null,
   "id": "222aabbb-f21a-4cb2-a32a-b143cddd98f5",
   "metadata": {},
   "outputs": [],
   "source": [
    "download_task_weather = SentinelHubEvalscriptTask(\n",
    "    features=(FeatureType.DATA, \"bands\"),\n",
    "    evalscript=evalscript_template(band_names, \"FLOAT32\"),\n",
    "    data_collection=S2_africa_weather_data_collection,\n",
    "    resolution=5000,\n",
    "    max_threads=3,\n",
    ")"
   ]
  },
  {
   "cell_type": "code",
   "execution_count": null,
   "id": "ee758e73-5a0b-4286-88e8-31ede2df28fe",
   "metadata": {},
   "outputs": [],
   "source": [
    "eopatch_weather = download_task_weather.execute(bbox=bbox, time_interval=[\"2020-08-01\", \"2020-08-30\"])"
   ]
  },
  {
   "cell_type": "code",
   "execution_count": null,
   "id": "16a93ce3-197e-4453-bb57-6f130e6bef10",
   "metadata": {},
   "outputs": [],
   "source": [
    "eopatch_weather"
   ]
  },
  {
   "cell_type": "code",
   "execution_count": null,
   "id": "15618778-d657-4918-8871-c14b81e27f73",
   "metadata": {},
   "outputs": [],
   "source": [
    "plot(\n",
    "    \"Africa weather data collection\",\n",
    "    band_names,\n",
    "    [eopatch_weather.data[\"bands\"][0][..., idx].squeeze() for idx, _ in enumerate(band_names)],\n",
    ")"
   ]
  },
  {
   "cell_type": "code",
   "execution_count": null,
   "id": "701e2768-c696-440b-bfbc-757396841fa1",
   "metadata": {},
   "outputs": [],
   "source": [
    "ps_download_task_precipitation = SentinelHubEvalscriptTask(\n",
    "    features=(FeatureType.DATA, \"bands\"),\n",
    "    evalscript=evalscript_template([\"PRECIPITATION\"], \"FLOAT32\"),\n",
    "    data_collection=S2_africa_weather_data_collection,\n",
    "    resolution=5000,\n",
    "    max_threads=3,\n",
    ")"
   ]
  },
  {
   "cell_type": "code",
   "execution_count": null,
   "id": "c2ab2e4b-57a1-4f3c-b7d4-deeb9c3a383e",
   "metadata": {},
   "outputs": [],
   "source": [
    "eopatch_precipitation = ps_download_task_precipitation.execute(bbox=bbox, time_interval=[\"2020-01-01\", \"2020-12-30\"])"
   ]
  },
  {
   "cell_type": "code",
   "execution_count": null,
   "id": "16a1f4d5-bcf6-4909-8bb5-421e63c639f2",
   "metadata": {},
   "outputs": [],
   "source": [
    "eopatch_precipitation"
   ]
  },
  {
   "cell_type": "code",
   "execution_count": null,
   "id": "0d5e6f1f-12d6-4f49-9275-7ae89f725098",
   "metadata": {},
   "outputs": [],
   "source": [
    "names_precipitation = [\n",
    "    str(eopatch_precipitation.timestamp[idx])[:10] for idx, _ in enumerate(eopatch_precipitation.timestamp)\n",
    "]\n",
    "data_precipitation = [\n",
    "    eopatch_precipitation.data[\"bands\"][idx][...] for idx, _ in enumerate(eopatch_precipitation.timestamp)\n",
    "]\n",
    "\n",
    "plot(\"PRECIPITATION\", names_precipitation, data_precipitation)"
   ]
  }
 ],
 "metadata": {
  "kernelspec": {
   "display_name": "Python 3 (ipykernel)",
   "language": "python",
   "name": "python3"
  },
  "language_info": {
   "codemirror_mode": {
    "name": "ipython",
    "version": 3
   },
   "file_extension": ".py",
   "mimetype": "text/x-python",
   "name": "python",
   "nbconvert_exporter": "python",
   "pygments_lexer": "ipython3",
   "version": "3.8.0"
  }
 },
 "nbformat": 4,
 "nbformat_minor": 5
}

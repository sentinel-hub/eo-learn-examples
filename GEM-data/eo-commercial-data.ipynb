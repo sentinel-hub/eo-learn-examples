{
 "cells": [
  {
   "cell_type": "markdown",
   "metadata": {
    "pycharm": {
     "name": "#%% md\n"
    }
   },
   "source": [
    "# Examples showcasing GEM EO commercial data collections"
   ]
  },
  {
   "cell_type": "markdown",
   "metadata": {
    "pycharm": {
     "name": "#%% md\n"
    }
   },
   "source": [
    "This is a notebook showcasing workflow examples for downloading EO data from commercial data collections available through Sentinel Hub. As commercial data is not openly available, the user will have to change the data collection ids in the code snippets below to their own collection ids.\n",
    "\n",
    "### Data download examples in this notebook:\n",
    "\n",
    "1.  PlanetScope \n",
    "\n",
    "2.  Pleiades\n",
    "\n",
    "3.  Spot\n",
    "\n",
    "4.  WorldView (+GeoEye)\n",
    "\n"
   ]
  },
  {
   "cell_type": "code",
   "execution_count": 3,
   "metadata": {
    "pycharm": {
     "name": "#%%\n"
    }
   },
   "outputs": [],
   "source": [
    "%matplotlib inline\n",
    "\n",
    "import numpy as np\n",
    "\n",
    "from eolearn.core import FeatureType\n",
    "from eolearn.io import SentinelHubEvalscriptTask\n",
    "from sentinelhub import CRS, Band, BBox, DataCollection, Unit"
   ]
  },
  {
   "cell_type": "markdown",
   "metadata": {
    "pycharm": {
     "name": "#%% md\n"
    }
   },
   "source": [
    "### General parameters"
   ]
  },
  {
   "cell_type": "code",
   "execution_count": 45,
   "metadata": {
    "pycharm": {
     "name": "#%% \n"
    }
   },
   "outputs": [],
   "source": [
    "# regions of interest\n",
    "\n",
    "ps_bbox = BBox(bbox=[562218, 5174019, 564201, 5172501], crs=CRS.UTM_33N)\n",
    "pleiades_bbox = BBox(bbox=[562150.34, 5172481.37, 564214.37, 5174058.72], crs=CRS.UTM_33N)\n",
    "spot_bbox = BBox(bbox=[562150.34, 5172481.37, 564214.37, 5174058.72], crs=CRS.UTM_33N)\n",
    "wv_bbox = BBox(bbox=[561924.43, 5172145.65, 564217.92, 5174392.08], crs=CRS.UTM_33N)"
   ]
  },
  {
   "cell_type": "markdown",
   "metadata": {
    "pycharm": {
     "name": "#%% md\n"
    }
   },
   "source": [
    "### 1. PlanetScope ( [PS](https://docs.sentinel-hub.com/api/latest/data/planet/planet-scope/) )"
   ]
  },
  {
   "cell_type": "code",
   "execution_count": null,
   "metadata": {
    "collapsed": false,
    "pycharm": {
     "name": "#%%\n"
    }
   },
   "outputs": [],
   "source": [
    "ps_bands = [\"Blue\", \"Green\", \"Red\", \"NIR\"]\n",
    "\n",
    "ps_data = DataCollection.define_byoc(\n",
    "    \"906b545b-4305-4968-b245-2abcb0609bc1\",\n",
    "    service_url=\"https://services.sentinel-hub.com\",\n",
    "    bands=[Band(name=name, units=(Unit.DN,), output_types=(np.uint16,)) for name in ps_bands],\n",
    ")"
   ]
  },
  {
   "cell_type": "code",
   "execution_count": null,
   "metadata": {
    "collapsed": false,
    "pycharm": {
     "name": "#%%\n"
    }
   },
   "outputs": [],
   "source": [
    "evalscript = \"\"\"\n",
    "//VERSION=3\n",
    "function setup() {\n",
    "  return {\n",
    "    input: [\"Blue\", \"Green\", \"Red\", \"NIR\"],\n",
    "    output: [\n",
    "        {\n",
    "          id: \"bands\",\n",
    "          bands: 4,\n",
    "          sampleType: \"UINT16\"\n",
    "        }\n",
    "    ]\n",
    "  };\n",
    "}\n",
    "function evaluatePixel(sample) {\n",
    "  return [sample.Blue/10000, sample.Green/10000, sample.Red/10000, sample.NIR];\n",
    "}\n",
    "\"\"\""
   ]
  },
  {
   "cell_type": "code",
   "execution_count": null,
   "metadata": {
    "collapsed": false,
    "pycharm": {
     "name": "#%%\n"
    }
   },
   "outputs": [],
   "source": [
    "ps_download_task = SentinelHubEvalscriptTask(\n",
    "    features=(FeatureType.DATA, \"bands\"), evalscript=evalscript, data_collection=ps_data, resolution=30, max_threads=3\n",
    ")"
   ]
  },
  {
   "cell_type": "code",
   "execution_count": null,
   "metadata": {
    "collapsed": false,
    "pycharm": {
     "name": "#%%\n"
    }
   },
   "outputs": [],
   "source": [
    "eopatch_ps = ps_download_task.execute(bbox=ps_bbox, time_interval=[\"2021-08-20\", \"2021-08-20\"])"
   ]
  },
  {
   "cell_type": "code",
   "execution_count": null,
   "metadata": {
    "collapsed": false,
    "pycharm": {
     "name": "#%%\n"
    }
   },
   "outputs": [],
   "source": [
    "eopatch_ps"
   ]
  },
  {
   "cell_type": "markdown",
   "metadata": {
    "collapsed": false,
    "pycharm": {
     "name": "#%% md\n"
    }
   },
   "source": [
    "### 2. [Pleiades](https://docs.sentinel-hub.com/api/latest/data/airbus/pleiades/)"
   ]
  },
  {
   "cell_type": "code",
   "execution_count": null,
   "metadata": {
    "collapsed": false,
    "pycharm": {
     "name": "#%%\n"
    }
   },
   "outputs": [],
   "source": [
    "pleiades_bands = [\"B0\", \"B1\", \"B2\"]\n",
    "\n",
    "pleiades_data = DataCollection.define_byoc(\n",
    "    \"934273b4-ffe6-464f-ac83-e49b58154e93\",\n",
    "    service_url=\"https://services.sentinel-hub.com\",\n",
    "    bands=[Band(name=name, units=(Unit.DN,), output_types=(np.uint16,)) for name in pleiades_bands],\n",
    ")"
   ]
  },
  {
   "cell_type": "code",
   "execution_count": null,
   "metadata": {
    "collapsed": false,
    "pycharm": {
     "name": "#%%\n"
    }
   },
   "outputs": [],
   "source": [
    "evalscript = \"\"\"\n",
    "//VERSION=3\n",
    "function setup() {\n",
    "  return {\n",
    "    input: [\"B0\", \"B1\",\"B2\"],\n",
    "    output: [\n",
    "        {\n",
    "          id: \"bands\",\n",
    "          bands: 3,\n",
    "          sampleType: \"UINT16\"\n",
    "        }\n",
    "    ]\n",
    "  };\n",
    "}\n",
    "function evaluatePixel(sample) {\n",
    "  return [sample.B0, sample.B1, sample.B2];\n",
    "}\n",
    "\"\"\""
   ]
  },
  {
   "cell_type": "code",
   "execution_count": null,
   "metadata": {
    "collapsed": false,
    "pycharm": {
     "name": "#%%\n"
    }
   },
   "outputs": [],
   "source": [
    "pleiades_download_task = SentinelHubEvalscriptTask(\n",
    "    features=(FeatureType.DATA, \"bands\"),\n",
    "    evalscript=evalscript,\n",
    "    data_collection=pleiades_data,\n",
    "    resolution=5,\n",
    "    max_threads=3,\n",
    ")"
   ]
  },
  {
   "cell_type": "code",
   "execution_count": null,
   "metadata": {
    "collapsed": false,
    "pycharm": {
     "name": "#%%\n"
    }
   },
   "outputs": [],
   "source": [
    "eopatch_pleiades = pleiades_download_task.execute(bbox=pleiades_bbox, time_interval=[\"2017-09-01\", \"2017-09-28\"])"
   ]
  },
  {
   "cell_type": "code",
   "execution_count": null,
   "metadata": {
    "collapsed": false,
    "pycharm": {
     "name": "#%%\n"
    }
   },
   "outputs": [],
   "source": [
    "eopatch_pleiades"
   ]
  },
  {
   "cell_type": "markdown",
   "metadata": {
    "collapsed": false,
    "pycharm": {
     "name": "#%% md\n"
    }
   },
   "source": [
    "### 3. [Spot](https://docs.sentinel-hub.com/api/latest/data/airbus/spot/)"
   ]
  },
  {
   "cell_type": "code",
   "execution_count": null,
   "metadata": {
    "collapsed": false,
    "pycharm": {
     "name": "#%%\n"
    }
   },
   "outputs": [],
   "source": [
    "spot_bands = [\"B0\", \"B1\", \"B2\"]\n",
    "\n",
    "spot_data = DataCollection.define_byoc(\n",
    "    \"57d54a21-09e9-40b7-b837-ff7c78b2b691\",\n",
    "    service_url=\"https://services.sentinel-hub.com\",\n",
    "    bands=[Band(name=name, units=(Unit.DN,), output_types=(np.uint16,)) for name in spot_bands],\n",
    ")"
   ]
  },
  {
   "cell_type": "code",
   "execution_count": null,
   "metadata": {
    "collapsed": false,
    "pycharm": {
     "name": "#%%\n"
    }
   },
   "outputs": [],
   "source": [
    "evalscript = \"\"\"\n",
    "//VERSION=3\n",
    "function setup() {\n",
    "  return {\n",
    "    input: [\"B0\", \"B1\",\"B2\"],\n",
    "    output: [\n",
    "        {\n",
    "          id: \"bands\",\n",
    "          bands: 3,\n",
    "          sampleType: \"UINT16\"\n",
    "        }\n",
    "    ]\n",
    "  };\n",
    "}\n",
    "function evaluatePixel(sample) {\n",
    "  return [sample.B1, sample.B2, sample.B3];\n",
    "}\n",
    "\"\"\""
   ]
  },
  {
   "cell_type": "code",
   "execution_count": null,
   "metadata": {
    "collapsed": false,
    "pycharm": {
     "name": "#%%\n"
    }
   },
   "outputs": [],
   "source": [
    "spot_download_task = SentinelHubEvalscriptTask(\n",
    "    features=(FeatureType.DATA, \"bands\"), evalscript=evalscript, data_collection=spot_data, resolution=6, max_threads=3\n",
    ")"
   ]
  },
  {
   "cell_type": "code",
   "execution_count": null,
   "metadata": {
    "collapsed": false,
    "pycharm": {
     "name": "#%%\n"
    }
   },
   "outputs": [],
   "source": [
    "eopatch_spot = spot_download_task.execute(bbox=spot_bbox, time_interval=[\"2017-01-27\", \"2018-04-27\"])"
   ]
  },
  {
   "cell_type": "code",
   "execution_count": null,
   "metadata": {
    "collapsed": false,
    "pycharm": {
     "name": "#%%\n"
    }
   },
   "outputs": [],
   "source": [
    "eopatch_spot"
   ]
  },
  {
   "cell_type": "markdown",
   "metadata": {
    "collapsed": false,
    "pycharm": {
     "name": "#%% md\n"
    }
   },
   "source": [
    "### 4. [WorldView (+GeoEye)](https://docs.sentinel-hub.com/api/latest/data/maxar/world-view/) "
   ]
  },
  {
   "cell_type": "code",
   "execution_count": null,
   "metadata": {
    "collapsed": false,
    "pycharm": {
     "name": "#%%\n"
    }
   },
   "outputs": [],
   "source": [
    "wv_bands = [\"Blue\", \"Green\", \"Red\", \"NearIR1\"]\n",
    "\n",
    "wv_data = DataCollection.define_byoc(\n",
    "    \"991fe3be-4d19-4d9f-9941-879da0a5c3b3\",\n",
    "    service_url=\"https://services.sentinel-hub.com\",\n",
    "    bands=[Band(name=name, units=(Unit.DN,), output_types=(np.uint16,)) for name in wv_bands],\n",
    ")"
   ]
  },
  {
   "cell_type": "code",
   "execution_count": 24,
   "metadata": {
    "pycharm": {
     "name": "#%%\n"
    }
   },
   "outputs": [],
   "source": [
    "evalscript = \"\"\"\n",
    "//VERSION=3\n",
    "function setup() {\n",
    "  return {\n",
    "    input: [\"Blue\", \"Green\",\"Red\", \"NearIR1\"],\n",
    "    output: [\n",
    "        {\n",
    "          id: \"bands\",\n",
    "          bands: 4,\n",
    "          sampleType: \"UINT16\"\n",
    "        }\n",
    "    ]\n",
    "  };\n",
    "}\n",
    "function evaluatePixel(sample) {\n",
    "  return [sample.Blue, sample.Green, sample.Red, sample.NearIR1];\n",
    "}\n",
    "\"\"\""
   ]
  },
  {
   "cell_type": "code",
   "execution_count": 25,
   "metadata": {
    "pycharm": {
     "name": "#%%\n"
    }
   },
   "outputs": [],
   "source": [
    "wv_download_task = SentinelHubEvalscriptTask(\n",
    "    features=(FeatureType.DATA, \"bands\"), evalscript=evalscript, data_collection=wv_data, resolution=5, max_threads=3\n",
    ")"
   ]
  },
  {
   "cell_type": "code",
   "execution_count": 26,
   "metadata": {
    "pycharm": {
     "name": "#%%\n"
    }
   },
   "outputs": [],
   "source": [
    "eopatch_wv = wv_download_task.execute(bbox=wv_bbox, time_interval=[\"2020-11-06\", \"2021-11-06\"])"
   ]
  },
  {
   "cell_type": "code",
   "execution_count": 27,
   "metadata": {
    "pycharm": {
     "name": "#%%\n"
    }
   },
   "outputs": [
    {
     "data": {
      "text/plain": [
       "EOPatch(\n",
       "  data={\n",
       "    bands: numpy.ndarray(shape=(2, 449, 459, 4), dtype=uint16)\n",
       "  }\n",
       "  meta_info={\n",
       "    size_x: 459\n",
       "    size_y: 449\n",
       "    time_difference: 1.0\n",
       "    time_interval: ('2020-11-06T00:00:00', '2021-11-06T23:59:59')\n",
       "  }\n",
       "  bbox=BBox(((561924.43, 5172145.65), (564217.92, 5174392.08)), crs=CRS('32633'))\n",
       "  timestamp=[datetime.datetime(2020, 11, 6, 9, 51, 16, 527000), ...], length=2\n",
       ")"
      ]
     },
     "execution_count": 27,
     "metadata": {},
     "output_type": "execute_result"
    }
   ],
   "source": [
    "eopatch_wv"
   ]
  }
 ],
 "metadata": {
  "kernelspec": {
   "display_name": "Python 3.8.10 ('eo-learn')",
   "language": "python",
   "name": "python3"
  },
  "language_info": {
   "codemirror_mode": {
    "name": "ipython",
    "version": 3
   },
   "file_extension": ".py",
   "mimetype": "text/x-python",
   "name": "python",
   "nbconvert_exporter": "python",
   "pygments_lexer": "ipython3",
   "version": "3.8.10"
  },
  "toc": {
   "base_numbering": 1,
   "nav_menu": {},
   "number_sections": false,
   "sideBar": false,
   "skip_h1_title": true,
   "title_cell": "Table of Contents",
   "title_sidebar": "Contents",
   "toc_cell": false,
   "toc_position": {},
   "toc_section_display": true,
   "toc_window_display": false
  },
  "vscode": {
   "interpreter": {
    "hash": "1743693356150a2ecbb05168988a90c775c9ad5bab596ebdc722d1093515d488"
   }
  }
 },
 "nbformat": 4,
 "nbformat_minor": 4
}

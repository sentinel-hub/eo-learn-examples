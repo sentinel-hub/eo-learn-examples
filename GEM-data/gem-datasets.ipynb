{
 "cells": [
  {
   "cell_type": "markdown",
   "id": "c79950bf-068c-4498-b7a2-71c138150378",
   "metadata": {},
   "source": [
    "# GEM data collections"
   ]
  },
  {
   "cell_type": "markdown",
   "id": "e786afd8-91dd-4377-8508-590adecbbe29",
   "metadata": {},
   "source": [
    "To facilitate easier navigation and clearer overview of data produced and made available within GEM project, we have structured the data collections into several notebooks:\n",
    "\n",
    "- [Built-up areas use-case](GEM-builtup-usecase.ipynb) contains the following data:\n",
    "   * Google open buildings raster data over Africa\n",
    "   * Results of LightGBM regression built-up model \n",
    "   * Results of LightGBM categorical built-up model\n",
    "   * Results of several TFCN regression and classification built-up models\n",
    "\n",
    "- [Map making use-case](GEM-map-making-usecase.ipynb)\n",
    "\n",
    "\n",
    "\n",
    "Each notebook will show how data collections, pertinent to GEM in general, or some of the GEM use-cases in particularl, can be accessed with GEM processing framework - eo-learn. Some explanation about the collections is also given, so the notebooks represent a self-sufficient and concise documentation about the datasets.\n",
    "\n"
   ]
  },
  {
   "cell_type": "code",
   "execution_count": null,
   "id": "be892601-c408-4117-be14-9777d409d5f9",
   "metadata": {},
   "outputs": [],
   "source": []
  }
 ],
 "metadata": {
  "kernelspec": {
   "display_name": "Python 3 (ipykernel)",
   "language": "python",
   "name": "python3"
  },
  "language_info": {
   "codemirror_mode": {
    "name": "ipython",
    "version": 3
   },
   "file_extension": ".py",
   "mimetype": "text/x-python",
   "name": "python",
   "nbconvert_exporter": "python",
   "pygments_lexer": "ipython3",
   "version": "3.9.15"
  }
 },
 "nbformat": 4,
 "nbformat_minor": 5
}

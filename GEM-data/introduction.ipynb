{
 "cells": [
  {
   "cell_type": "markdown",
   "metadata": {
    "pycharm": {
     "name": "#%% md\n"
    }
   },
   "source": [
    "# Global Earth Monitor datasets\n",
    "\n",
    "The notebooks in this `eo-learn-examples'` showcase the access to the various data collections available in project Global Earth Monitor. The examples are presented in Jupyter Notebooks structured according to data type:\n",
    "- [EO data](eo-data.ipynb): Earth Observation data (e.g., Sentinel and LandSat missions)\n",
    "- [EO derived data](eo-derived-data.ipynb): data, derived from EO data (e.g., Global Land Cover)\n",
    "- [EO commercial data](eo-commercial-data.ipynb): commercial EO data (e.g., Maxar imagery)\n",
    "- [weather/climate data](weather-data.ipynb): weather data, accessible through meteoblue services\n",
    "- [GEM ML ready data-cubes](gem-ML-datacubes.ipynb): analysis/machine-learning ready datacubes, created within GEM project\n",
    "- [GEM datasets](gem-datasets.ipynb): various datasets/results/..., created within GEM project\n",
    "\n",
    "\n",
    "## Prerequisites\n",
    "\n",
    "### Sentinel Hub account\n",
    "\n",
    "In order to use Sentinel Hub services you will need a Sentinel Hub account. If you do not have one yet, you can create a free trial account at [Sentinel Hub webpage](https://www.sentinel-hub.com/trial). If you are a researcher you can even apply for a free non-commercial account at [ESA OSEO page](https://earth.esa.int/aos/OSEO).\n",
    "\n",
    "#### Sentinel Hub Credentials\n",
    "\n",
    "Please follow the instructions at [configuration instructions](https://sentinelhub-py.readthedocs.io/en/latest/configure.html) to configure your `sentinelhub` installation. For Processing API request you need to obtain and set your `oauth` client id and secret.\n",
    "\n",
    "<div class=\"alert alert-info\">\n",
    "\n",
    "**Note:**\n",
    "    \n",
    "Instead of providing credentials here we could also configure them beforehand according to [configuration instructions](https://sentinelhub-py.readthedocs.io/en/latest/configure.html).\n",
    "</div>"
   ]
  },
  {
   "cell_type": "code",
   "execution_count": null,
   "metadata": {
    "pycharm": {
     "name": "#%%\n"
    }
   },
   "outputs": [],
   "source": [
    "# In case you put the credentials into the configuration file you can leave this unchanged\n",
    "\n",
    "CLIENT_ID = \"\"\n",
    "CLIENT_SECRET = \"\""
   ]
  },
  {
   "cell_type": "code",
   "execution_count": null,
   "metadata": {
    "pycharm": {
     "name": "#%%\n"
    }
   },
   "outputs": [],
   "source": [
    "from sentinelhub import SHConfig\n",
    "\n",
    "config = SHConfig()\n",
    "\n",
    "if CLIENT_ID and CLIENT_SECRET:\n",
    "    config.sh_client_id = CLIENT_ID\n",
    "    config.sh_client_secret = CLIENT_SECRET\n",
    "\n",
    "if config.sh_client_id == \"\" or config.sh_client_secret == \"\" or config.instance_id == \"\":\n",
    "    print(\"Warning! To use Sentinel Hub services, please provide the credentials (client ID and client secret).\")"
   ]
  },
  {
   "cell_type": "code",
   "execution_count": null,
   "metadata": {
    "pycharm": {
     "name": "#%%\n"
    }
   },
   "outputs": [],
   "source": [
    "config.save()"
   ]
  },
  {
   "cell_type": "markdown",
   "metadata": {
    "pycharm": {
     "name": "#%% md\n"
    }
   },
   "source": [
    "### meteoblue account\n",
    "\n",
    "In order to use meteoblue services to retrieve weather/climate data, as shown in `eo-weather-data` notebook, you will need a meteoblue account. You can create one (including a free trial) at [meteoblue weather-api webpage](https://www.meteoblue.com/en/weather-api)."
   ]
  }
 ],
 "metadata": {
  "kernelspec": {
   "display_name": "Python 3 (ipykernel)",
   "language": "python",
   "name": "python3"
  },
  "language_info": {
   "codemirror_mode": {
    "name": "ipython",
    "version": 3
   },
   "file_extension": ".py",
   "mimetype": "text/x-python",
   "name": "python",
   "nbconvert_exporter": "python",
   "pygments_lexer": "ipython3",
   "version": "3.9.15"
  },
  "vscode": {
   "interpreter": {
    "hash": "97cc609b13305c559618ec78a438abc56230b9381f827f22d070313b9a1f3777"
   }
  }
 },
 "nbformat": 4,
 "nbformat_minor": 4
}

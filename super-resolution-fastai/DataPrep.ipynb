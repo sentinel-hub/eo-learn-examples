{
 "cells": [
  {
   "cell_type": "markdown",
   "metadata": {},
   "source": [
    "# Prepare Superresolution Training Data with eo-learn\n",
    "\n",
    "There are many examples and resources for training superresolution networks on (satellite) imagery:\n",
    "- [MDL4EO](https://mdl4eo.irstea.fr/2019/03/29/enhancement-of-sentinel-2-images-at-1-5m/)\n",
    "- [ElementAI HighRes-Net](https://github.com/ElementAI/HighRes-net)\n",
    "- [Fast.ai superresolution](https://github.com/fastai/course-v3/blob/master/nbs/dl1/lesson7-superres.ipynb)\n",
    "\n",
    "We'll show you how to use `eo-learn` to prepare data for these tasks (and an example of training the network with `fastai`)"
   ]
  },
  {
   "cell_type": "markdown",
   "metadata": {},
   "source": [
    "First you'll need to download the [Spacenet Challenge: Paris Data](https://spacenetchallenge.github.io/AOI_Lists/AOI_3_Paris.html). We're using this to get high resolution image chips."
   ]
  },
  {
   "cell_type": "code",
   "execution_count": null,
   "metadata": {
    "collapsed": false,
    "inputHidden": false,
    "jupyter": {
     "outputs_hidden": false
    },
    "outputHidden": false
   },
   "outputs": [],
   "source": [
    "import datetime\n",
    "from glob import glob\n",
    "from os import path as op\n",
    "\n",
    "import numpy as np\n",
    "from PIL import Image\n",
    "from tqdm import tqdm\n",
    "\n",
    "from eolearn.core import EOTask, FeatureType, LinearWorkflow\n",
    "from eolearn.io import ImportFromTiff, SentinelHubInputTask\n",
    "from sentinelhub import CRS, BBox, DataCollection"
   ]
  },
  {
   "cell_type": "code",
   "execution_count": null,
   "metadata": {
    "collapsed": false,
    "inputHidden": false,
    "jupyter": {
     "outputs_hidden": false
    },
    "outputHidden": false
   },
   "outputs": [],
   "source": [
    "spacenet_images = glob(\"AOI_3_Paris_Train/RGB-PanSharpen/*.tif\")"
   ]
  },
  {
   "cell_type": "code",
   "execution_count": null,
   "metadata": {
    "collapsed": false,
    "inputHidden": false,
    "jupyter": {
     "outputs_hidden": false
    },
    "outputHidden": false
   },
   "outputs": [],
   "source": [
    "# Import the Spacenet chips into EOPatches, as a feature called \"spacenet\"\n",
    "input_task = ImportFromTiff((FeatureType.DATA_TIMELESS, \"spacenet\"))"
   ]
  },
  {
   "cell_type": "code",
   "execution_count": null,
   "metadata": {
    "collapsed": false,
    "inputHidden": false,
    "jupyter": {
     "outputs_hidden": false
    },
    "outputHidden": false
   },
   "outputs": [],
   "source": [
    "# Add Sentinel 2 L2A to our EOPatches covering the same area\n",
    "time_interval = (\"2017-02-28\", \"2017-04-01\")  # roughly matching the spacenet dates\n",
    "\n",
    "add_l2a = SentinelHubInputTask(\n",
    "    data_collection=DataCollection.SENTINEL2_L2A,\n",
    "    bands=[\"B04\", \"B03\", \"B02\"],\n",
    "    bands_feature=(FeatureType.DATA, \"TRUE-COLOR-S2-L2A\"),\n",
    "    additional_data=[(FeatureType.MASK, \"dataMask\", \"IS_VALID\"), (FeatureType.DATA, \"SCL\")],\n",
    "    maxcc=0.1,\n",
    "    time_difference=datetime.timedelta(hours=2),\n",
    "    max_threads=3,\n",
    "    resolution=(10, 10),\n",
    ")"
   ]
  },
  {
   "cell_type": "code",
   "execution_count": null,
   "metadata": {
    "collapsed": false,
    "inputHidden": false,
    "jupyter": {
     "outputs_hidden": false
    },
    "outputHidden": false
   },
   "outputs": [],
   "source": [
    "# Save the Spacenet and Sentinel images in separate folders. Resize our images when saving\n",
    "\n",
    "BIG_SIZE = (256, 256)\n",
    "SMALL_SIZE = (64, 64)\n",
    "INPUT_FOLDER = \"input\"\n",
    "TARGET_FOLDER = \"target\"\n",
    "\n",
    "\n",
    "class CustomSave(EOTask):\n",
    "    def execute(self, eopatch, image_name=None):\n",
    "        # if we don't have enough data, don't save\n",
    "        spacenet_array = eopatch.data_timeless[\"spacenet\"]\n",
    "        data_pct = np.count_nonzero(spacenet_array) / spacenet_array.size\n",
    "        if data_pct < 0.9:\n",
    "            return eopatch\n",
    "\n",
    "        # resize images, rescale to 8bit\n",
    "        sentinel_array = eopatch.data[layer][0]\n",
    "        sentinel_array_8bit = (sentinel_array * 255.0).astype(np.uint8)\n",
    "        sentinel_img = Image.fromarray(sentinel_array_8bit).resize(SMALL_SIZE, resample=Image.BILINEAR)\n",
    "        sentinel_img.save(op.join(INPUT_FOLDER, f\"{image_name}.png\"))\n",
    "\n",
    "        spacenet_array_8bit = (\n",
    "            (spacenet_array - np.min(spacenet_array, axis=(0, 1)))\n",
    "            / (np.max(spacenet_array, axis=(0, 1)) - np.min(spacenet_array, axis=(0, 1)))\n",
    "            * 255\n",
    "        ).astype(np.uint8)\n",
    "        spacenet_image = Image.fromarray(spacenet_array_8bit).resize(BIG_SIZE, resample=Image.BILINEAR)\n",
    "        spacenet_image.save(op.join(TARGET_FOLDER, f\"{image_name}.png\"))\n",
    "\n",
    "        return eopatch\n",
    "\n",
    "\n",
    "custom_save = CustomSave()"
   ]
  },
  {
   "cell_type": "code",
   "execution_count": null,
   "metadata": {
    "collapsed": false,
    "inputHidden": false,
    "jupyter": {
     "outputs_hidden": false
    },
    "outputHidden": false
   },
   "outputs": [],
   "source": [
    "# Create this as a EOWorkflow to run over all the images\n",
    "prepare_data = LinearWorkflow(input_task, add_l2a, custom_save)"
   ]
  },
  {
   "cell_type": "code",
   "execution_count": null,
   "metadata": {
    "collapsed": false,
    "inputHidden": false,
    "jupyter": {
     "outputs_hidden": false
    },
    "outputHidden": false
   },
   "outputs": [],
   "source": [
    "# Execute the workflow\n",
    "pbar = tqdm(total=len(spacenet_images))\n",
    "for image in spacenet_images:\n",
    "    image_name = op.splitext(op.basename(image))[0].replace(\"RGB-PanSharpen_AOI_3_Paris_\", \"\")\n",
    "    workflow_input = {\n",
    "        input_task: dict(filename=image),\n",
    "        add_l1c: dict(time_interval=time_interval),\n",
    "        custom_save: dict(image_name=image_name),\n",
    "    }\n",
    "    prepare_data.execute(workflow_input)\n",
    "    pbar.update(1)"
   ]
  }
 ],
 "metadata": {
  "kernelspec": {
   "display_name": "Python 3",
   "language": "python",
   "name": "python3"
  },
  "language_info": {
   "codemirror_mode": {
    "name": "ipython",
    "version": 3
   },
   "file_extension": ".py",
   "mimetype": "text/x-python",
   "name": "python",
   "nbconvert_exporter": "python",
   "pygments_lexer": "ipython3",
   "version": "3.7.6"
  },
  "nteract": {
   "version": "0.15.0"
  }
 },
 "nbformat": 4,
 "nbformat_minor": 4
}

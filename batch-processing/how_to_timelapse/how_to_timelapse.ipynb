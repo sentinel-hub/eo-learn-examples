{
 "cells": [
  {
   "cell_type": "markdown",
   "metadata": {},
   "source": [
    "\n",
    "# How to make the perfect time-lapse of the Earth\n",
    "\n",
    "This tutorial shows a detail coverage of making time-lapse animations from satellite imagery like a pro."
   ]
  },
  {
   "cell_type": "markdown",
   "metadata": {
    "toc": true
   },
   "source": [
    "<h1>Table of Contents<span class=\"tocSkip\"></span></h1>\n",
    "<div class=\"toc\"><ul class=\"toc-item\"><li><span><a href=\"#0.-Prerequisites\" data-toc-modified-id=\"0.-Prerequisites-1\">0. Prerequisites</a></span></li><li><span><a href=\"#1.-Removing-clouds\" data-toc-modified-id=\"1.-Removing-clouds-2\">1. Removing clouds</a></span></li><li><span><a href=\"#2.-Applying-co-registration\" data-toc-modified-id=\"2.-Applying-co-registration-3\">2. Applying co-registration</a></span></li><li><span><a href=\"#3.-Large-Area-Example\" data-toc-modified-id=\"3.-Large-Area-Example-4\">3. Large Area Example</a></span></li><li><span><a href=\"#4.-Split-Image\" data-toc-modified-id=\"4.-Split-Image-5\">4. Split Image</a></span></li></ul></div>\n",
    "\n",
    "Note: This notebook requires an installation of additional packages `ffmpeg-python` and `ipyleaflet`."
   ]
  },
  {
   "cell_type": "code",
   "execution_count": null,
   "metadata": {
    "ExecuteTime": {
     "end_time": "2021-01-08T14:49:59.954436Z",
     "start_time": "2021-01-08T14:49:47.487632Z"
    }
   },
   "outputs": [],
   "source": [
    "%load_ext autoreload\n",
    "%autoreload 2\n",
    "\n",
    "import os\n",
    "import subprocess\n",
    "from datetime import timedelta\n",
    "\n",
    "import ffmpeg\n",
    "import geopandas as gpd\n",
    "import matplotlib.pyplot as plt\n",
    "import numpy as np\n",
    "import pandas as pd\n",
    "from ipyleaflet import GeoJSON, Map, basemaps\n",
    "\n",
    "from eolearn.core import EOExecutor, EOTask, FeatureType, LinearWorkflow, ZipFeatureTask\n",
    "from eolearn.coregistration import ECCRegistration\n",
    "from eolearn.features import LinearInterpolation, SimpleFilterTask\n",
    "from eolearn.io import ExportToTiff, ImportFromTiff, SentinelHubInputTask\n",
    "from eolearn.mask import CloudMaskTask\n",
    "from sentinelhub import CRS, BBox, BBoxSplitter, DataCollection, Geometry, bbox_to_dimensions"
   ]
  },
  {
   "cell_type": "markdown",
   "metadata": {},
   "source": [
    "## 0. Prerequisites\n",
    "\n",
    "In order to set everything up and make the credentials work, please check [this notebook](https://github.com/sentinel-hub/eo-learn/blob/master/examples/io/SentinelHubIO.ipynb)."
   ]
  },
  {
   "cell_type": "code",
   "execution_count": null,
   "metadata": {},
   "outputs": [],
   "source": [
    "class AnimateTask(EOTask):\n",
    "    def __init__(\n",
    "        self,\n",
    "        image_dir,\n",
    "        out_dir,\n",
    "        out_name,\n",
    "        feature=(FeatureType.DATA, \"RGB\"),\n",
    "        scale_factor=2.5,\n",
    "        duration=3,\n",
    "        dpi=150,\n",
    "        pad_inches=None,\n",
    "        shape=None,\n",
    "    ):\n",
    "        self.image_dir = image_dir\n",
    "        self.out_name = out_name\n",
    "        self.out_dir = out_dir\n",
    "        self.feature = feature\n",
    "        self.scale_factor = scale_factor\n",
    "        self.duration = duration\n",
    "        self.dpi = dpi\n",
    "        self.pad_inches = pad_inches\n",
    "        self.shape = shape\n",
    "\n",
    "    def execute(self, eopatch):\n",
    "        images = np.clip(eopatch[self.feature] * self.scale_factor, 0, 1)\n",
    "        fps = len(images) / self.duration\n",
    "        subprocess.run(f\"rm -rf {self.image_dir} && mkdir {self.image_dir}\", shell=True)\n",
    "\n",
    "        for idx, image in enumerate(images):\n",
    "            if self.shape:\n",
    "                plt.figure(figsize=(self.shape[0], self.shape[1]))\n",
    "            plt.imshow(image)\n",
    "            plt.axis(False)\n",
    "            plt.savefig(\n",
    "                f\"{self.image_dir}/image_{idx:03d}.png\", bbox_inches=\"tight\", dpi=self.dpi, pad_inches=self.pad_inches\n",
    "            )\n",
    "            plt.close()\n",
    "\n",
    "        # video related\n",
    "        stream = ffmpeg.input(f\"{self.image_dir}/image_*.png\", pattern_type=\"glob\", framerate=fps)\n",
    "        stream = stream.filter(\"pad\", w=\"ceil(iw/2)*2\", h=\"ceil(ih/2)*2\", color=\"white\")\n",
    "        split = stream.split()\n",
    "        video = split[0]\n",
    "\n",
    "        # gif related\n",
    "        palette = split[1].filter(\"palettegen\", reserve_transparent=True, stats_mode=\"diff\")\n",
    "        gif = ffmpeg.filter([split[2], palette], \"paletteuse\", dither=\"bayer\", bayer_scale=5, diff_mode=\"rectangle\")\n",
    "\n",
    "        # save output\n",
    "        os.makedirs(self.out_dir, exist_ok=True)\n",
    "        video.output(f\"{self.out_dir}/{self.out_name}.mp4\", crf=15, pix_fmt=\"yuv420p\", vcodec=\"libx264\", an=None).run(\n",
    "            overwrite_output=True\n",
    "        )\n",
    "        gif.output(f\"{self.out_dir}/{self.out_name}.gif\").run(overwrite_output=True)\n",
    "        return eopatch"
   ]
  },
  {
   "cell_type": "markdown",
   "metadata": {},
   "source": [
    "## 1. Removing clouds"
   ]
  },
  {
   "cell_type": "code",
   "execution_count": null,
   "metadata": {
    "ExecuteTime": {
     "end_time": "2021-01-08T14:50:06.350973Z",
     "start_time": "2021-01-08T14:50:06.220626Z"
    }
   },
   "outputs": [],
   "source": [
    "# https://twitter.com/Valtzen/status/1270269337061019648\n",
    "bbox = BBox(bbox=[-73.558102, 45.447728, -73.488750, 45.491908], crs=CRS.WGS84)\n",
    "resolution = 10\n",
    "time_interval = (\"2018-01-01\", \"2020-01-01\")\n",
    "print(f\"Image size: {bbox_to_dimensions(bbox, resolution)}\")\n",
    "\n",
    "geom, crs = bbox.geometry, bbox.crs\n",
    "wgs84_geometry = Geometry(geom, crs).transform(CRS.WGS84)\n",
    "geometry_center = wgs84_geometry.geometry.centroid\n",
    "\n",
    "map1 = Map(basemap=basemaps.Esri.WorldImagery, center=(geometry_center.y, geometry_center.x), zoom=13)\n",
    "\n",
    "area_geojson = GeoJSON(data=wgs84_geometry.geojson)\n",
    "map1.add_layer(area_geojson)\n",
    "\n",
    "map1"
   ]
  },
  {
   "cell_type": "code",
   "execution_count": null,
   "metadata": {
    "ExecuteTime": {
     "end_time": "2021-01-07T21:45:45.050257Z",
     "start_time": "2021-01-07T21:45:44.998233Z"
    }
   },
   "outputs": [],
   "source": [
    "download_task = SentinelHubInputTask(\n",
    "    bands=[\"B04\", \"B03\", \"B02\"],\n",
    "    bands_feature=(FeatureType.DATA, \"RGB\"),\n",
    "    resolution=resolution,\n",
    "    maxcc=0.9,\n",
    "    time_difference=timedelta(minutes=120),\n",
    "    data_collection=DataCollection.SENTINEL2_L2A,\n",
    "    max_threads=10,\n",
    "    mosaicking_order=\"leastCC\",\n",
    "    additional_data=[(FeatureType.MASK, \"CLM\"), (FeatureType.MASK, \"dataMask\")],\n",
    ")\n",
    "\n",
    "\n",
    "def valid_coverage_thresholder_f(valid_mask, more_than=0.95):\n",
    "    coverage = np.count_nonzero(valid_mask) / np.prod(valid_mask.shape)\n",
    "    return coverage > more_than\n",
    "\n",
    "\n",
    "valid_mask_task = ZipFeatureTask(\n",
    "    {FeatureType.MASK: [\"CLM\", \"dataMask\"]},\n",
    "    (FeatureType.MASK, \"VALID_DATA\"),\n",
    "    lambda clm, dm: np.all([clm == 0, dm], axis=0),\n",
    ")\n",
    "\n",
    "filter_task = SimpleFilterTask((FeatureType.MASK, \"VALID_DATA\"), valid_coverage_thresholder_f)\n",
    "\n",
    "name = \"clm_service\"\n",
    "anim_task = AnimateTask(image_dir=\"./images\", out_dir=\"./animations\", out_name=name, duration=5, dpi=200)\n",
    "\n",
    "params = {\"MaxIters\": 500}\n",
    "coreg_task = ECCRegistration((FeatureType.DATA, \"RGB\"), channel=2, params=params)\n",
    "\n",
    "name = \"clm_service_coreg\"\n",
    "anim_task_after = AnimateTask(image_dir=\"./images\", out_dir=\"./animations\", out_name=name, duration=5, dpi=200)"
   ]
  },
  {
   "cell_type": "code",
   "execution_count": null,
   "metadata": {
    "ExecuteTime": {
     "end_time": "2021-01-07T21:33:10.673256Z",
     "start_time": "2021-01-07T21:32:25.385582Z"
    }
   },
   "outputs": [],
   "source": [
    "workflow = LinearWorkflow(download_task, valid_mask_task, filter_task, anim_task, coreg_task, anim_task_after)\n",
    "\n",
    "result = workflow.execute({download_task: {\"bbox\": bbox, \"time_interval\": time_interval}})"
   ]
  },
  {
   "cell_type": "markdown",
   "metadata": {},
   "source": [
    "## 2. Applying co-registration"
   ]
  },
  {
   "cell_type": "code",
   "execution_count": null,
   "metadata": {
    "ExecuteTime": {
     "end_time": "2021-01-07T21:46:44.514077Z",
     "start_time": "2021-01-07T21:46:44.462629Z"
    }
   },
   "outputs": [],
   "source": [
    "bbox = BBox(bbox=[34.716, 30.950, 34.743, 30.975], crs=CRS.WGS84)\n",
    "resolution = 10\n",
    "time_interval = (\"2020-01-01\", \"2021-01-01\")\n",
    "print(f\"BBox size: {bbox_to_dimensions(bbox, resolution)}\")\n",
    "\n",
    "geom, crs = bbox.geometry, bbox.crs\n",
    "wgs84_geometry = Geometry(geom, crs).transform(CRS.WGS84)\n",
    "geometry_center = wgs84_geometry.geometry.centroid\n",
    "\n",
    "map1 = Map(basemap=basemaps.Esri.WorldImagery, center=(geometry_center.y, geometry_center.x), zoom=14)\n",
    "\n",
    "area_geojson = GeoJSON(data=wgs84_geometry.geojson)\n",
    "map1.add_layer(area_geojson)\n",
    "\n",
    "map1"
   ]
  },
  {
   "cell_type": "code",
   "execution_count": null,
   "metadata": {
    "ExecuteTime": {
     "end_time": "2021-01-07T21:49:38.869041Z",
     "start_time": "2021-01-07T21:48:11.148469Z"
    }
   },
   "outputs": [],
   "source": [
    "download_task_l2a = SentinelHubInputTask(\n",
    "    bands=[\"B04\", \"B03\", \"B02\"],\n",
    "    bands_feature=(FeatureType.DATA, \"RGB\"),\n",
    "    resolution=resolution,\n",
    "    maxcc=0.9,\n",
    "    time_difference=timedelta(minutes=120),\n",
    "    data_collection=DataCollection.SENTINEL2_L2A,\n",
    "    max_threads=10,\n",
    "    additional_data=[(FeatureType.MASK, \"dataMask\", \"dataMask_l2a\")],\n",
    ")\n",
    "\n",
    "download_task_l1c = SentinelHubInputTask(\n",
    "    bands_feature=(FeatureType.DATA, \"BANDS\"),\n",
    "    resolution=resolution,\n",
    "    maxcc=0.9,\n",
    "    time_difference=timedelta(minutes=120),\n",
    "    data_collection=DataCollection.SENTINEL2_L1C,\n",
    "    max_threads=10,\n",
    "    additional_data=[(FeatureType.MASK, \"dataMask\", \"dataMask_l1c\")],\n",
    ")\n",
    "\n",
    "data_mask_merge = ZipFeatureTask(\n",
    "    {FeatureType.MASK: [\"dataMask_l1c\", \"dataMask_l2a\"]},\n",
    "    (FeatureType.MASK, \"dataMask\"),\n",
    "    lambda dm1, dm2: np.all([dm1, dm2], axis=0),\n",
    ")\n",
    "\n",
    "cloud_masking_task = CloudMaskTask(\n",
    "    data_feature=(FeatureType.DATA, \"BANDS\"),\n",
    "    is_data_feature=\"dataMask\",\n",
    "    all_bands=True,\n",
    "    processing_resolution=120,\n",
    "    mono_features=None,\n",
    "    mask_feature=\"CLM\",\n",
    "    average_over=16,\n",
    "    dilation_size=12,\n",
    "    mono_threshold=0.2,\n",
    ")\n",
    "\n",
    "valid_mask_task = ZipFeatureTask(\n",
    "    {FeatureType.MASK: [\"CLM\", \"dataMask\"]},\n",
    "    (FeatureType.MASK, \"VALID_DATA\"),\n",
    "    lambda clm, dm: np.all([clm == 0, dm], axis=0),\n",
    ")\n",
    "\n",
    "filter_task = SimpleFilterTask((FeatureType.MASK, \"VALID_DATA\"), valid_coverage_thresholder_f)\n",
    "\n",
    "name = \"wo_coreg_anim\"\n",
    "anim_task_before = AnimateTask(image_dir=\"./images\", out_dir=\"./animations\", out_name=name, duration=5, dpi=200)\n",
    "\n",
    "\n",
    "params = {\"MaxIters\": 500}\n",
    "coreg_task = ECCRegistration((FeatureType.DATA, \"RGB\"), channel=2, params=params)\n",
    "\n",
    "name = \"coreg_anim\"\n",
    "anim_task_after = AnimateTask(image_dir=\"./images\", out_dir=\"./animations\", out_name=name, duration=5, dpi=200)"
   ]
  },
  {
   "cell_type": "code",
   "execution_count": null,
   "metadata": {
    "ExecuteTime": {
     "end_time": "2021-01-07T21:49:38.869041Z",
     "start_time": "2021-01-07T21:48:11.148469Z"
    }
   },
   "outputs": [],
   "source": [
    "workflow = LinearWorkflow(\n",
    "    download_task_l2a,\n",
    "    download_task_l1c,\n",
    "    data_mask_merge,\n",
    "    cloud_masking_task,\n",
    "    valid_mask_task,\n",
    "    filter_task,\n",
    "    anim_task_before,\n",
    "    coreg_task,\n",
    "    anim_task_after,\n",
    ")\n",
    "\n",
    "result = workflow.execute({download_task_l2a: {\"bbox\": bbox, \"time_interval\": time_interval}})"
   ]
  },
  {
   "cell_type": "markdown",
   "metadata": {},
   "source": [
    "## 3. Large Area Example"
   ]
  },
  {
   "cell_type": "code",
   "execution_count": null,
   "metadata": {
    "ExecuteTime": {
     "end_time": "2021-01-07T22:20:34.909329Z",
     "start_time": "2021-01-07T22:20:34.831306Z"
    }
   },
   "outputs": [],
   "source": [
    "bbox = BBox(bbox=[21.4, -20.0, 23.9, -18.0], crs=CRS.WGS84)\n",
    "time_interval = (\"2017-09-01\", \"2019-04-01\")\n",
    "# time_interval = ('2017-09-01', '2017-10-01')\n",
    "resolution = 640\n",
    "print(f\"BBox size: {bbox_to_dimensions(bbox, resolution)}\")\n",
    "\n",
    "geom, crs = bbox.geometry, bbox.crs\n",
    "wgs84_geometry = Geometry(geom, crs).transform(CRS.WGS84)\n",
    "geometry_center = wgs84_geometry.geometry.centroid\n",
    "\n",
    "map1 = Map(basemap=basemaps.Esri.WorldImagery, center=(geometry_center.y, geometry_center.x), zoom=8)\n",
    "\n",
    "area_geojson = GeoJSON(data=wgs84_geometry.geojson)\n",
    "map1.add_layer(area_geojson)\n",
    "\n",
    "map1"
   ]
  },
  {
   "cell_type": "code",
   "execution_count": null,
   "metadata": {},
   "outputs": [],
   "source": [
    "download_task_l2a = SentinelHubInputTask(\n",
    "    bands=[\"B04\", \"B03\", \"B02\"],\n",
    "    bands_feature=(FeatureType.DATA, \"RGB\"),\n",
    "    resolution=resolution,\n",
    "    maxcc=0.9,\n",
    "    time_difference=timedelta(minutes=120),\n",
    "    data_collection=DataCollection.SENTINEL2_L2A,\n",
    "    max_threads=10,\n",
    "    additional_data=[(FeatureType.MASK, \"dataMask\", \"dataMask_l2a\")],\n",
    "    aux_request_args={\"dataFilter\": {\"previewMode\": \"PREVIEW\"}},\n",
    ")\n",
    "\n",
    "download_task_l1c = SentinelHubInputTask(\n",
    "    bands_feature=(FeatureType.DATA, \"BANDS\"),\n",
    "    resolution=resolution,\n",
    "    maxcc=0.9,\n",
    "    time_difference=timedelta(minutes=120),\n",
    "    data_collection=DataCollection.SENTINEL2_L1C,\n",
    "    max_threads=10,\n",
    "    additional_data=[(FeatureType.MASK, \"dataMask\", \"dataMask_l1c\")],\n",
    "    aux_request_args={\"dataFilter\": {\"previewMode\": \"PREVIEW\"}},\n",
    ")\n",
    "\n",
    "data_mask_merge = ZipFeatureTask(\n",
    "    {FeatureType.MASK: [\"dataMask_l1c\", \"dataMask_l2a\"]},\n",
    "    (FeatureType.MASK, \"dataMask\"),\n",
    "    lambda dm1, dm2: np.all([dm1, dm2], axis=0),\n",
    ")\n",
    "\n",
    "cloud_masking_task = CloudMaskTask(\n",
    "    data_feature=\"BANDS\",\n",
    "    is_data_feature=\"dataMask\",\n",
    "    all_bands=True,\n",
    "    processing_resolution=resolution,\n",
    "    mono_features=(\"CLP\", \"CLM\"),\n",
    "    mask_feature=None,\n",
    "    mono_threshold=0.3,\n",
    "    average_over=1,\n",
    "    dilation_size=4,\n",
    ")\n",
    "\n",
    "valid_mask_task = ZipFeatureTask(\n",
    "    {FeatureType.MASK: [\"CLM\", \"dataMask\"]},\n",
    "    (FeatureType.MASK, \"VALID_DATA\"),\n",
    "    lambda clm, dm: np.all([clm == 0, dm], axis=0),\n",
    ")\n",
    "\n",
    "resampled_range = (\"2018-01-01\", \"2019-01-01\", 10)\n",
    "interp_task = LinearInterpolation(\n",
    "    feature=(FeatureType.DATA, \"RGB\"),\n",
    "    mask_feature=(FeatureType.MASK, \"VALID_DATA\"),\n",
    "    resample_range=resampled_range,\n",
    "    bounds_error=False,\n",
    ")\n",
    "\n",
    "name = \"botswana_single_raw\"\n",
    "anim_task_raw = AnimateTask(image_dir=\"./images\", out_dir=\"./animations\", out_name=name, duration=5, dpi=200)\n",
    "\n",
    "name = \"botswana_single\"\n",
    "anim_task = AnimateTask(image_dir=\"./images\", out_dir=\"./animations\", out_name=name, duration=3, dpi=200)"
   ]
  },
  {
   "cell_type": "code",
   "execution_count": null,
   "metadata": {},
   "outputs": [],
   "source": [
    "workflow = LinearWorkflow(\n",
    "    download_task_l2a,\n",
    "    #     anim_task_raw\n",
    "    download_task_l1c,\n",
    "    data_mask_merge,\n",
    "    cloud_masking_task,\n",
    "    valid_mask_task,\n",
    "    interp_task,\n",
    "    anim_task,\n",
    ")\n",
    "\n",
    "result = workflow.execute(\n",
    "    {\n",
    "        download_task_l2a: {\"bbox\": bbox, \"time_interval\": time_interval},\n",
    "    }\n",
    ")"
   ]
  },
  {
   "cell_type": "markdown",
   "metadata": {},
   "source": [
    "## 4. Split Image"
   ]
  },
  {
   "cell_type": "code",
   "execution_count": null,
   "metadata": {},
   "outputs": [],
   "source": [
    "bbox = BBox(bbox=[21.3, -20.0, 24.0, -18.0], crs=CRS.WGS84)\n",
    "time_interval = (\"2018-09-01\", \"2020-04-01\")\n",
    "resolution = 120\n",
    "\n",
    "bbox_splitter = BBoxSplitter([bbox.geometry], bbox.crs, (6, 5))\n",
    "bbox_list = np.array(bbox_splitter.get_bbox_list())\n",
    "info_list = np.array(bbox_splitter.get_info_list())\n",
    "print(f\"{len(bbox_list)} patches of size: {bbox_to_dimensions(bbox_list[0], resolution)}\")\n",
    "\n",
    "gdf = gpd.GeoDataFrame(None, crs=int(bbox.crs.epsg), geometry=[bbox.geometry for bbox in bbox_list])\n",
    "\n",
    "geom, crs = gdf.unary_union, CRS.WGS84\n",
    "wgs84_geometry = Geometry(geom, crs).transform(CRS.WGS84)\n",
    "geometry_center = wgs84_geometry.geometry.centroid\n",
    "\n",
    "map1 = Map(basemap=basemaps.Esri.WorldImagery, center=(geometry_center.y, geometry_center.x), zoom=8)\n",
    "\n",
    "for geo in gdf.geometry:\n",
    "    area_geojson = GeoJSON(data=Geometry(geo, crs).geojson)\n",
    "    map1.add_layer(area_geojson)\n",
    "\n",
    "map1"
   ]
  },
  {
   "cell_type": "code",
   "execution_count": null,
   "metadata": {},
   "outputs": [],
   "source": [
    "download_task = SentinelHubInputTask(\n",
    "    bands=[\"B04\", \"B03\", \"B02\"],\n",
    "    bands_feature=(FeatureType.DATA, \"RGB\"),\n",
    "    resolution=resolution,\n",
    "    maxcc=0.9,\n",
    "    time_difference=timedelta(minutes=120),\n",
    "    data_collection=DataCollection.SENTINEL2_L2A,\n",
    "    max_threads=10,\n",
    "    additional_data=[(FeatureType.MASK, \"CLM\"), (FeatureType.DATA, \"CLP\"), (FeatureType.MASK, \"dataMask\")],\n",
    ")\n",
    "\n",
    "valid_mask_task = ZipFeatureTask(\n",
    "    [(FeatureType.MASK, \"dataMask\"), (FeatureType.MASK, \"CLM\"), (FeatureType.DATA, \"CLP\")],\n",
    "    (FeatureType.MASK, \"VALID_DATA\"),\n",
    "    lambda dm, clm, clp: np.all([dm, clm == 0, clp / 255 < 0.3], axis=0),\n",
    ")\n",
    "\n",
    "resampled_range = (\"2019-01-01\", \"2020-01-01\", 10)\n",
    "interp_task = LinearInterpolation(\n",
    "    feature=(FeatureType.DATA, \"RGB\"),\n",
    "    mask_feature=(FeatureType.MASK, \"VALID_DATA\"),\n",
    "    resample_range=resampled_range,\n",
    "    bounds_error=False,\n",
    ")\n",
    "\n",
    "export_r = ExportToTiff(feature=(FeatureType.DATA, \"RGB\"), folder=\"./tiffs/\", band_indices=[0])\n",
    "export_g = ExportToTiff(feature=(FeatureType.DATA, \"RGB\"), folder=\"./tiffs/\", band_indices=[1])\n",
    "export_b = ExportToTiff(feature=(FeatureType.DATA, \"RGB\"), folder=\"./tiffs/\", band_indices=[2])\n",
    "\n",
    "convert_to_uint16 = ZipFeatureTask(\n",
    "    [(FeatureType.DATA, \"RGB\")], (FeatureType.DATA, \"RGB\"), lambda x: (x * 1e4).astype(np.uint16)\n",
    ")"
   ]
  },
  {
   "cell_type": "code",
   "execution_count": null,
   "metadata": {},
   "outputs": [],
   "source": [
    "os.system(\"rm -rf ./tiffs && mkdir ./tiffs\")\n",
    "\n",
    "workflow = LinearWorkflow(download_task, valid_mask_task, interp_task, convert_to_uint16, export_r, export_g, export_b)\n",
    "\n",
    "# Execute the workflow\n",
    "execution_args = []\n",
    "for idx, bbox in enumerate(bbox_list):\n",
    "    execution_args.append(\n",
    "        {\n",
    "            download_task: {\"bbox\": bbox, \"time_interval\": time_interval},\n",
    "            export_r: {\"filename\": f\"r_patch_{idx}.tiff\"},\n",
    "            export_g: {\"filename\": f\"g_patch_{idx}.tiff\"},\n",
    "            export_b: {\"filename\": f\"b_patch_{idx}.tiff\"},\n",
    "        }\n",
    "    )\n",
    "\n",
    "executor = EOExecutor(workflow, execution_args, save_logs=True)\n",
    "executor.run(workers=10, multiprocess=False)\n",
    "executor.make_report()"
   ]
  },
  {
   "cell_type": "code",
   "execution_count": null,
   "metadata": {},
   "outputs": [],
   "source": [
    "# spatial merge\n",
    "subprocess.run(\n",
    "    (\n",
    "        \"gdal_merge.py -n 0 -a_nodata 0 -o tiffs/r.tiff -co compress=LZW tiffs/r_patch_*.tiff && rm -rf\"\n",
    "        \" tiffs/r_patch_*.tiff\"\n",
    "    ),\n",
    "    shell=True,\n",
    ")\n",
    "subprocess.run(\n",
    "    (\n",
    "        \"gdal_merge.py -n 0 -a_nodata 0 -o tiffs/g.tiff -co compress=LZW tiffs/g_patch_*.tiff && rm -rf\"\n",
    "        \" tiffs/g_patch_*.tiff\"\n",
    "    ),\n",
    "    shell=True,\n",
    ")\n",
    "subprocess.run(\n",
    "    (\n",
    "        \"gdal_merge.py -n 0 -a_nodata 0 -o tiffs/b.tiff -co compress=LZW tiffs/b_patch_*.tiff && rm -rf\"\n",
    "        \" tiffs/b_patch_*.tiff\"\n",
    "    ),\n",
    "    shell=True,\n",
    ");"
   ]
  },
  {
   "cell_type": "code",
   "execution_count": null,
   "metadata": {},
   "outputs": [],
   "source": [
    "dates = pd.date_range(\"2019-01-01\", \"2020-01-01\", freq=\"10D\").to_pydatetime()\n",
    "import_r = ImportFromTiff((FeatureType.DATA, \"R\"), \"tiffs/r.tiff\", timestamp_size=len(dates))\n",
    "import_g = ImportFromTiff((FeatureType.DATA, \"G\"), \"tiffs/g.tiff\", timestamp_size=len(dates))\n",
    "import_b = ImportFromTiff((FeatureType.DATA, \"B\"), \"tiffs/b.tiff\", timestamp_size=len(dates))\n",
    "\n",
    "merge_bands_task = ZipFeatureTask(\n",
    "    {FeatureType.DATA: [\"R\", \"G\", \"B\"]},\n",
    "    (FeatureType.DATA, \"RGB\"),\n",
    "    lambda r, g, b: np.moveaxis(np.array([r[..., 0], g[..., 0], b[..., 0]]), 0, -1),\n",
    ")\n",
    "\n",
    "\n",
    "def temporal_ma_f(f):\n",
    "    k = np.array([0.05, 0.6, 1, 0.6, 0.05])\n",
    "    k = k / np.sum(k)\n",
    "    w = len(k) // 2\n",
    "    return np.array([np.sum([f[(i - w + j) % len(f)] * k[j] for j in range(len(k))], axis=0) for i in range(len(f))])\n",
    "\n",
    "\n",
    "temporal_smoothing = ZipFeatureTask([(FeatureType.DATA, \"RGB\")], (FeatureType.DATA, \"RGB\"), temporal_ma_f)\n",
    "\n",
    "name = \"botswana_multi_ma\"\n",
    "anim_task = AnimateTask(\n",
    "    image_dir=\"./images\", out_dir=\"./animations\", out_name=name, duration=3, dpi=400, scale_factor=3.0 / 1e4\n",
    ")"
   ]
  },
  {
   "cell_type": "code",
   "execution_count": null,
   "metadata": {},
   "outputs": [],
   "source": [
    "workflow = LinearWorkflow(import_r, import_g, import_b, merge_bands_task, temporal_smoothing, anim_task)\n",
    "\n",
    "result = workflow.execute()"
   ]
  },
  {
   "cell_type": "markdown",
   "metadata": {},
   "source": [
    "## 5. Batch request"
   ]
  },
  {
   "cell_type": "markdown",
   "metadata": {},
   "source": [
    "Use the evalscript from the [custom scripts repository](https://github.com/sentinel-hub/custom-scripts/tree/master/sentinel-2/interpolated_time_series) and see how to use it in the batch example in our [sentinelhub-py](https://github.com/sentinel-hub/sentinelhub-py/blob/master/examples/batch_processing.ipynb) library."
   ]
  }
 ],
 "metadata": {
  "kernelspec": {
   "display_name": "Python 3 (ipykernel)",
   "language": "python",
   "name": "python3"
  },
  "language_info": {
   "codemirror_mode": {
    "name": "ipython",
    "version": 3
   },
   "file_extension": ".py",
   "mimetype": "text/x-python",
   "name": "python",
   "nbconvert_exporter": "python",
   "pygments_lexer": "ipython3",
   "version": "3.10.6"
  },
  "toc": {
   "base_numbering": 1,
   "nav_menu": {},
   "number_sections": false,
   "sideBar": true,
   "skip_h1_title": true,
   "title_cell": "Table of Contents",
   "title_sidebar": "Contents",
   "toc_cell": true,
   "toc_position": {
    "height": "calc(100% - 180px)",
    "left": "10px",
    "top": "150px",
    "width": "307px"
   },
   "toc_section_display": true,
   "toc_window_display": true
  },
  "varInspector": {
   "cols": {
    "lenName": 16,
    "lenType": 16,
    "lenVar": 40
   },
   "kernels_config": {
    "python": {
     "delete_cmd_postfix": "",
     "delete_cmd_prefix": "del ",
     "library": "var_list.py",
     "varRefreshCmd": "print(var_dic_list())"
    },
    "r": {
     "delete_cmd_postfix": ") ",
     "delete_cmd_prefix": "rm(",
     "library": "var_list.r",
     "varRefreshCmd": "cat(var_dic_list()) "
    }
   },
   "types_to_exclude": [
    "module",
    "function",
    "builtin_function_or_method",
    "instance",
    "_Feature"
   ],
   "window_display": false
  }
 },
 "nbformat": 4,
 "nbformat_minor": 4
}

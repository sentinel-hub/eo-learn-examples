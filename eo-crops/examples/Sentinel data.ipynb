{
 "cells": [
  {
   "cell_type": "markdown",
   "id": "5a9eebce",
   "metadata": {
    "pycharm": {
     "name": "#%% md\n"
    }
   },
   "source": [
    "# Sentinel 1 and 2"
   ]
  },
  {
   "cell_type": "markdown",
   "id": "46193fec",
   "metadata": {
    "pycharm": {
     "name": "#%% md\n"
    }
   },
   "source": [
    "The aim of this notebook is to guide you how to get Sentinel data using Sentinelhub and eo-learn. Price for subscription is described there https://www.sentinel-hub.com/pricing/.\n",
    "\n",
    "The workflow for agriculture purposes is as follows :\n",
    "\n",
    "1) Read shapefile that represent you field (boundaries or microplots)\n",
    "\n",
    "2) Extract Sentinel-2 data and compute averaged NDVI time series to get a summary of the season vegetation dynamic.\n",
    "\n",
    "3) Extract Sentinel-1 data and apply multitemporal speckle filtering"
   ]
  },
  {
   "cell_type": "markdown",
   "id": "4b394e51",
   "metadata": {
    "pycharm": {
     "name": "#%% md\n"
    }
   },
   "source": [
    "## Set your working environment"
   ]
  },
  {
   "cell_type": "markdown",
   "id": "9c49c15e",
   "metadata": {
    "pycharm": {
     "name": "#%% md\n"
    }
   },
   "source": [
    "### Import the packages"
   ]
  },
  {
   "cell_type": "code",
   "execution_count": 99,
   "id": "2714c2f2",
   "metadata": {
    "pycharm": {
     "name": "#%%\n"
    }
   },
   "outputs": [],
   "source": [
    "import warnings\n",
    "warnings.filterwarnings(\"ignore\")\n",
    "\n",
    "import geopandas as gpd\n",
    "from scipy.signal import savgol_filter\n",
    "\n",
    "import os\n",
    "import numpy as np\n",
    "import matplotlib.pyplot as plt\n",
    "from eolearn.core import FeatureType, AddFeatureTask\n",
    "\n",
    "from eocrops.input import utils_sh as utils_sh\n",
    "from eocrops.input import sentinel1 as sentinel1\n",
    "from eocrops.input import sentinel2 as sentinel2\n",
    "from eocrops.tasks import cmd_otb as cmd_otb\n",
    "from eocrops.tasks import preprocessing as preprocessing\n",
    "from importlib import reload\n"
   ]
  },
  {
   "cell_type": "markdown",
   "id": "59c8b191",
   "metadata": {
    "pycharm": {
     "name": "#%% md\n"
    }
   },
   "source": [
    "### Read your vector file"
   ]
  },
  {
   "cell_type": "code",
   "execution_count": 2,
   "id": "7f7e1a00",
   "metadata": {
    "pycharm": {
     "name": "#%%\n"
    }
   },
   "outputs": [
    {
     "name": "stdout",
     "output_type": "stream",
     "text": [
      "/home/johann/Documents/git-repo/eo-crops\n"
     ]
    }
   ],
   "source": [
    "dir_path = os.path.dirname(os.getcwd())\n",
    "print(dir_path)\n",
    "#read microplot data\n",
    "shapefile_input = gpd.read_file(os.path.join(dir_path, './examples/layers/POLYGON.shp'))"
   ]
  },
  {
   "cell_type": "code",
   "execution_count": 5,
   "id": "e325fa21",
   "metadata": {
    "pycharm": {
     "name": "#%%\n"
    }
   },
   "outputs": [],
   "source": [
    "api = ''\n",
    "client_id = ''\n",
    "client_secret = ''\n",
    "config = utils_sh.config_sentinelhub_cred(api, client_id, client_secret)\n",
    "# Provide here your planet API key\n",
    "config.planet_key = ''"
   ]
  },
  {
   "cell_type": "code",
   "execution_count": 7,
   "id": "6bad372b",
   "metadata": {
    "pycharm": {
     "name": "#%%\n"
    }
   },
   "outputs": [],
   "source": [
    "time_period = ('2020-02-15', '2020-08-15')\n",
    "kwargs = dict(polygon=shapefile_input,\n",
    "              time_stamp=time_period,\n",
    "              config=config)"
   ]
  },
  {
   "cell_type": "markdown",
   "id": "32f5f8c1",
   "metadata": {
    "pycharm": {
     "name": "#%% md\n"
    }
   },
   "source": [
    "## Extract S2 data"
   ]
  },
  {
   "cell_type": "code",
   "execution_count": 23,
   "id": "9f923e73",
   "metadata": {
    "pycharm": {
     "name": "#%%\n"
    }
   },
   "outputs": [],
   "source": [
    "warnings.filterwarnings(\"ignore\")\n",
    "patch = sentinel2.workflow_instructions_S2L2A(**kwargs,\n",
    "                                              path_out = None, #you can specify here a path to save the EOPatch object\n",
    "                                              coverage_predicate=0.5,\n",
    "                                              interpolation={'interpolate' : True})  # you can add period_length in the dictionary to resample\n"
   ]
  },
  {
   "cell_type": "code",
   "execution_count": 24,
   "id": "ef3b89b7",
   "metadata": {
    "pycharm": {
     "name": "#%%\n"
    }
   },
   "outputs": [
    {
     "data": {
      "image/png": "[encoded data removed]",
      "text/plain": [
       "<Figure size 360x360 with 1 Axes>"
      ]
     },
     "metadata": {
      "needs_background": "light"
     },
     "output_type": "display_data"
    }
   ],
   "source": [
    "#RGB\n",
    "plt.figure(figsize=(5, 5))\n",
    "plt.imshow(np.clip(patch.data['BANDS-S2-L2A'][4][..., [2, 1, 0]]*2.5, 0, 1), vmin=0, vmax=1);\n",
    "plt.axis(False);\n",
    "plt.show()"
   ]
  },
  {
   "cell_type": "code",
   "execution_count": 25,
   "id": "4babe8e5",
   "metadata": {
    "pycharm": {
     "name": "#%%\n"
    }
   },
   "outputs": [],
   "source": [
    "masking = preprocessing.MaskPixels([\"NDVI\", \"LAI\"])\n",
    "patch = masking.execute(patch, erosion = 1)"
   ]
  },
  {
   "cell_type": "code",
   "execution_count": 27,
   "id": "f0320999",
   "metadata": {
    "pycharm": {
     "name": "#%%\n"
    }
   },
   "outputs": [
    {
     "data": {
      "image/png": "[encoded data removed]",
      "text/plain": [
       "<Figure size 360x360 with 1 Axes>"
      ]
     },
     "metadata": {
      "needs_background": "light"
     },
     "output_type": "display_data"
    }
   ],
   "source": [
    "#NDVI\n",
    "plt.figure(figsize=(5, 5))\n",
    "plt.imshow(patch.data['NDVI'][10,].squeeze());\n",
    "plt.axis(False);\n",
    "plt.show()"
   ]
  },
  {
   "cell_type": "code",
   "execution_count": 105,
   "id": "93f2b9ae",
   "metadata": {
    "pycharm": {
     "name": "#%%\n"
    },
    "scrolled": true
   },
   "outputs": [
    {
     "data": {
      "image/png": "[encoded data removed]",
      "text/plain": [
       "<Figure size 432x288 with 1 Axes>"
      ]
     },
     "metadata": {
      "needs_background": "light"
     },
     "output_type": "display_data"
    }
   ],
   "source": [
    "#LAI Time Series from masked field\n",
    "variable = 'LAI'\n",
    "#Subset the time series between doy 30 and 260 => useful for double logistic smoothing\n",
    "curve_fit = preprocessing.CurveFitting(range_doy=(60, 300))\n",
    "doy, _ = curve_fit.get_doy_period(patch)\n",
    "ts_mean = curve_fit.get_time_series_profile(patch,feature=variable, feature_mask = 'MASK').flatten()\n",
    "fitted = curve_fit.execute(patch, feature=variable, feature_mask = 'MASK')\n",
    "\n",
    "plt.plot(patch.timestamp, fitted,  label='Double logistic')\n",
    "plt.plot(patch.timestamp, ts_mean, label='Original')\n",
    "plt.legend(loc='upper left')\n",
    "plt.show()"
   ]
  },
  {
   "cell_type": "code",
   "execution_count": 45,
   "id": "f260c1bd",
   "metadata": {},
   "outputs": [
    {
     "data": {
      "text/plain": [
       "array([ 0.45528363,  0.15000042, 23.16021074,  0.17572339,  9.23138875])"
      ]
     },
     "execution_count": 45,
     "metadata": {},
     "output_type": "execute_result"
    }
   ],
   "source": [
    "#Parameters from doubly logistic \n",
    "#α1 is seasonal minimum greenness\n",
    "#α2 is the seasonal amplitude\n",
    "#α3 controls the green-up rate\n",
    "#α4 is the green-up inflection point\n",
    "#α5 controls the mid-growing season greenness trajectory.\n",
    "\n",
    "curve_fit.params[2:]\n"
   ]
  },
  {
   "cell_type": "code",
   "execution_count": 40,
   "id": "0699a68d",
   "metadata": {
    "pycharm": {
     "name": "#%%\n"
    }
   },
   "outputs": [
    {
     "data": {
      "text/plain": [
       "datetime.datetime(2020, 5, 31, 11, 17, 40)"
      ]
     },
     "execution_count": 40,
     "metadata": {},
     "output_type": "execute_result"
    }
   ],
   "source": [
    "#Peak of the season is at 31/05 \n",
    "time_argmax = np.nanargmax(ts_mean)\n",
    "patch.timestamp[time_argmax]"
   ]
  },
  {
   "cell_type": "code",
   "execution_count": 62,
   "id": "8dce547e",
   "metadata": {
    "pycharm": {
     "name": "#%%\n"
    }
   },
   "outputs": [],
   "source": [
    "#If you would like to save the data in .tif format (e.g. NDVI on the first date)\n",
    "from eolearn.io import ExportToTiffTask\n",
    "index_time = 0\n",
    "date = str(patch.timestamp[index_time]).split(' ')[0]\n",
    "\n",
    "export = ExportToTiffTask(feature=(FeatureType.DATA, 'NDVI'),\n",
    "                          folder=os.path.join('your_path_'+ date),\n",
    "                          band_indices=[0],\n",
    "                          date_indices=[index_time])\n",
    "patch = export.execute(patch)"
   ]
  },
  {
   "cell_type": "markdown",
   "id": "8137402a",
   "metadata": {
    "pycharm": {
     "name": "#%% md\n"
    }
   },
   "source": [
    "## Extract Sentinel-1 data "
   ]
  },
  {
   "cell_type": "code",
   "execution_count": 46,
   "id": "f94d58fc",
   "metadata": {
    "pycharm": {
     "name": "#%%\n"
    }
   },
   "outputs": [],
   "source": [
    "s1_eopatch = sentinel1.workflow_instructions_S1IW(**kwargs,\n",
    "                                                  speckle_lee_window = 3,\n",
    "                                                  orbit_direction = 'ASC',\n",
    "                                                  backCoeff = 'SIGMA0_ELLIPSOID' ) "
   ]
  },
  {
   "cell_type": "code",
   "execution_count": 73,
   "id": "8ef78417",
   "metadata": {
    "pycharm": {
     "name": "#%%\n"
    }
   },
   "outputs": [],
   "source": [
    "#Compute Radar Vegetation Index\n",
    "VV = s1_eopatch.data['BANDS-S1-IW'][...,0]\n",
    "VH =  s1_eopatch.data['BANDS-S1-IW'][...,1]\n",
    "RVI = (4*VH)/(VH+VV)\n"
   ]
  },
  {
   "cell_type": "code",
   "execution_count": 74,
   "id": "0a9a6be5",
   "metadata": {},
   "outputs": [],
   "source": [
    "#Add the feature to the EOPatch\n",
    "add_rvi = AddFeatureTask((FeatureType.DATA, \"RVI\"))\n",
    "add_rvi.execute(eopatch = s1_eopatch, data = RVI[..., np.newaxis])\n",
    "masking = preprocessing.MaskPixels([ \"RVI\"])\n",
    "s1_eopatch = masking.execute(s1_eopatch)"
   ]
  },
  {
   "cell_type": "code",
   "execution_count": 76,
   "id": "3e549f7f",
   "metadata": {
    "pycharm": {
     "name": "#%%\n"
    }
   },
   "outputs": [
    {
     "data": {
      "image/png": "[encoded data removed]",
      "text/plain": [
       "<Figure size 360x360 with 1 Axes>"
      ]
     },
     "metadata": {
      "needs_background": "light"
     },
     "output_type": "display_data"
    }
   ],
   "source": [
    "#Display RVI from SIGMA0 without any speckle filtering\n",
    "s1_eopatch = masking.execute(s1_eopatch)\n",
    "plt.figure(figsize=(5, 5))\n",
    "plt.imshow(s1_eopatch.data['RVI'][15,].squeeze());\n",
    "plt.axis(False);\n",
    "plt.show()"
   ]
  },
  {
   "cell_type": "code",
   "execution_count": 104,
   "id": "73335e7e",
   "metadata": {},
   "outputs": [
    {
     "data": {
      "image/png": "[encoded data removed]",
      "text/plain": [
       "<Figure size 432x288 with 1 Axes>"
      ]
     },
     "metadata": {
      "needs_background": "light"
     },
     "output_type": "display_data"
    }
   ],
   "source": [
    "#RVI Time Series from masked field\n",
    "variable = 'RVI'\n",
    "\n",
    "curve_fit = preprocessing.CurveFitting(range_doy=(60, 300))\n",
    "doy, _ = curve_fit.get_doy_period(s1_eopatch)\n",
    "\n",
    "ts_mean = curve_fit.get_time_series_profile(s1_eopatch,feature=variable, feature_mask = 'MASK').flatten()\n",
    "fitted = curve_fit.execute(s1_eopatch, feature=variable, feature_mask = 'MASK')\n",
    "\n",
    "plt.plot(doy, fitted,  label='Double logistic')\n",
    "plt.plot(doy, ts_mean, label='Original')\n",
    "plt.legend(loc='upper left')\n",
    "plt.show()"
   ]
  },
  {
   "cell_type": "markdown",
   "id": "844ed4e9",
   "metadata": {
    "pycharm": {
     "name": "#%% md\n"
    }
   },
   "source": [
    "You can easily download and install OTB https://www.orfeo-toolbox.org/CookBook/Installation.html#linux, which allows you to apply Quegan multitemporal speckle filtering"
   ]
  },
  {
   "cell_type": "code",
   "execution_count": 86,
   "id": "543160b3",
   "metadata": {
    "pycharm": {
     "name": "#%%\n"
    }
   },
   "outputs": [
    {
     "name": "stdout",
     "output_type": "stream",
     "text": [
      "2022-08-08 14:38:31 (INFO) MultitempFilteringOutcore: Default RAM limit for OTB is 256 MB\n",
      "2022-08-08 14:38:31 (INFO) MultitempFilteringOutcore: GDAL maximum cache size is 781 MB\n",
      "2022-08-08 14:38:31 (INFO) MultitempFilteringOutcore: OTB will use at most 8 threads\n",
      "2022-08-08 14:38:31 (INFO): Loading metadata from official product\n",
      "2022-08-08 14:38:31 (INFO): Loading metadata from official product\n",
      "2022-08-08 14:38:31 (INFO): Loading metadata from official product\n",
      "2022-08-08 14:38:31 (INFO): Loading metadata from official product\n",
      "2022-08-08 14:38:31 (INFO): Loading metadata from official product\n",
      "2022-08-08 14:38:31 (INFO): Loading metadata from official product\n",
      "2022-08-08 14:38:31 (INFO): Loading metadata from official product\n",
      "2022-08-08 14:38:31 (INFO): Loading metadata from official product\n",
      "2022-08-08 14:38:31 (INFO): Loading metadata from official product\n",
      "2022-08-08 14:38:31 (INFO): Loading metadata from official product\n",
      "2022-08-08 14:38:31 (INFO): Loading metadata from official product\n",
      "2022-08-08 14:38:31 (INFO): Loading metadata from official product\n",
      "2022-08-08 14:38:31 (INFO): Loading metadata from official product\n",
      "2022-08-08 14:38:31 (INFO): Loading metadata from official product\n",
      "2022-08-08 14:38:31 (INFO): Loading metadata from official product\n",
      "2022-08-08 14:38:31 (INFO): Loading metadata from official product\n",
      "2022-08-08 14:38:31 (INFO): Loading metadata from official product\n",
      "2022-08-08 14:38:31 (INFO): Loading metadata from official product\n",
      "2022-08-08 14:38:31 (INFO): Loading metadata from official product\n",
      "2022-08-08 14:38:31 (INFO): Loading metadata from official product\n",
      "2022-08-08 14:38:31 (INFO): Loading metadata from official product\n",
      "2022-08-08 14:38:31 (INFO): Loading metadata from official product\n",
      "2022-08-08 14:38:31 (INFO): Loading metadata from official product\n",
      "2022-08-08 14:38:31 (INFO): Loading metadata from official product\n",
      "2022-08-08 14:38:31 (INFO): Loading metadata from official product\n",
      "2022-08-08 14:38:31 (INFO): Loading metadata from official product\n",
      "2022-08-08 14:38:31 (INFO): Loading metadata from official product\n",
      "2022-08-08 14:38:31 (INFO): Loading metadata from official product\n",
      "2022-08-08 14:38:31 (INFO): Loading metadata from official product\n",
      "2022-08-08 14:38:31 (INFO): Loading metadata from official product\n",
      "2022-08-08 14:38:31 (INFO): Estimated memory for full processing: 0.376572MB (avail.: 8 MB), optimal image partitioning: 1 blocks\n",
      "2022-08-08 14:38:31 (INFO): File ./S1_VV/outcore.tif will be written in 1 blocks of 29x23 pixels\n",
      "Writing ./S1_VV/outcore.tif...: 100% [**************************************************] (0s)\n",
      "2022-08-08 14:38:31 (INFO) MultitempFilteringFilter: Default RAM limit for OTB is 256 MB\n",
      "2022-08-08 14:38:31 (INFO) MultitempFilteringFilter: GDAL maximum cache size is 781 MB\n",
      "2022-08-08 14:38:31 (INFO) MultitempFilteringFilter: OTB will use at most 8 threads\n",
      "2022-08-08 14:38:31 (INFO): Loading metadata from official product\n",
      "2022-08-08 14:38:31 (INFO): Loading metadata from official product\n",
      "2022-08-08 14:38:31 (INFO): Loading metadata from official product\n",
      "2022-08-08 14:38:31 (INFO): Loading metadata from official product\n",
      "2022-08-08 14:38:31 (INFO): Loading metadata from official product\n",
      "2022-08-08 14:38:31 (INFO): Loading metadata from official product\n",
      "2022-08-08 14:38:31 (INFO): Loading metadata from official product\n",
      "2022-08-08 14:38:31 (INFO): Loading metadata from official product\n",
      "2022-08-08 14:38:31 (INFO): Loading metadata from official product\n",
      "2022-08-08 14:38:31 (INFO): Loading metadata from official product\n",
      "2022-08-08 14:38:31 (INFO): Loading metadata from official product\n",
      "2022-08-08 14:38:32 (INFO): Loading metadata from official product\n",
      "2022-08-08 14:38:32 (INFO): Loading metadata from official product\n",
      "2022-08-08 14:38:32 (INFO): Loading metadata from official product\n",
      "2022-08-08 14:38:32 (INFO): Loading metadata from official product\n",
      "2022-08-08 14:38:32 (INFO): Loading metadata from official product\n",
      "2022-08-08 14:38:32 (INFO): Loading metadata from official product\n",
      "2022-08-08 14:38:32 (INFO): Loading metadata from official product\n",
      "2022-08-08 14:38:32 (INFO): Loading metadata from official product\n",
      "2022-08-08 14:38:32 (INFO): Loading metadata from official product\n",
      "2022-08-08 14:38:32 (INFO): Loading metadata from official product\n",
      "2022-08-08 14:38:32 (INFO): Loading metadata from official product\n",
      "2022-08-08 14:38:32 (INFO): Loading metadata from official product\n",
      "2022-08-08 14:38:32 (INFO): Loading metadata from official product\n",
      "2022-08-08 14:38:32 (INFO): Loading metadata from official product\n",
      "2022-08-08 14:38:32 (INFO): Loading metadata from official product\n",
      "2022-08-08 14:38:32 (INFO): Loading metadata from official product\n",
      "2022-08-08 14:38:32 (INFO): Loading metadata from official product\n",
      "2022-08-08 14:38:32 (INFO): Loading metadata from official product\n",
      "2022-08-08 14:38:32 (INFO): Loading metadata from official product\n",
      "2022-08-08 14:38:32 (INFO): Loading metadata from official product\n",
      "2022-08-08 14:38:32 (INFO): Estimated memory for full processing: 0.012722MB (avail.: 256 MB), optimal image partitioning: 1 blocks\n",
      "2022-08-08 14:38:32 (INFO): File S1_VV_filtered/S1_VV_20200219_filtered.tif will be written in 1 blocks of 29x23 pixels\n",
      "S1_VV_filtered/S1_VV_20200219_filtered.tif: 100% [**************************************************] (0s)\n",
      "2022-08-08 14:38:32 (INFO): File S1_VV_filtered/S1_VV_20200225_filtered.tif will be written in 1 blocks of 29x23 pixels\n",
      "S1_VV_filtered/S1_VV_20200225_filtered.tif: 100% [**************************************************] (0s)\n",
      "2022-08-08 14:38:32 (INFO): File S1_VV_filtered/S1_VV_20200302_filtered.tif will be written in 1 blocks of 29x23 pixels\n",
      "S1_VV_filtered/S1_VV_20200302_filtered.tif: 100% [**************************************************] (0s)\n",
      "2022-08-08 14:38:32 (INFO): File S1_VV_filtered/S1_VV_20200308_filtered.tif will be written in 1 blocks of 29x23 pixels\n",
      "S1_VV_filtered/S1_VV_20200308_filtered.tif: 100% [**************************************************] (0s)\n",
      "2022-08-08 14:38:32 (INFO): File S1_VV_filtered/S1_VV_20200314_filtered.tif will be written in 1 blocks of 29x23 pixels\n",
      "S1_VV_filtered/S1_VV_20200314_filtered.tif: 100% [**************************************************] (0s)\n",
      "2022-08-08 14:38:32 (INFO): File S1_VV_filtered/S1_VV_20200320_filtered.tif will be written in 1 blocks of 29x23 pixels\n",
      "S1_VV_filtered/S1_VV_20200320_filtered.tif: 100% [**************************************************] (0s)\n",
      "2022-08-08 14:38:32 (INFO): File S1_VV_filtered/S1_VV_20200326_filtered.tif will be written in 1 blocks of 29x23 pixels\n",
      "S1_VV_filtered/S1_VV_20200326_filtered.tif: 100% [**************************************************] (0s)\n",
      "2022-08-08 14:38:32 (INFO): File S1_VV_filtered/S1_VV_20200401_filtered.tif will be written in 1 blocks of 29x23 pixels\n",
      "S1_VV_filtered/S1_VV_20200401_filtered.tif: 100% [**************************************************] (0s)\n",
      "2022-08-08 14:38:32 (INFO): File S1_VV_filtered/S1_VV_20200407_filtered.tif will be written in 1 blocks of 29x23 pixels\n",
      "S1_VV_filtered/S1_VV_20200407_filtered.tif: 100% [**************************************************] (0s)\n",
      "2022-08-08 14:38:32 (INFO): File S1_VV_filtered/S1_VV_20200413_filtered.tif will be written in 1 blocks of 29x23 pixels\n",
      "S1_VV_filtered/S1_VV_20200413_filtered.tif: 100% [**************************************************] (0s)\n",
      "2022-08-08 14:38:32 (INFO): File S1_VV_filtered/S1_VV_20200419_filtered.tif will be written in 1 blocks of 29x23 pixels\n",
      "S1_VV_filtered/S1_VV_20200419_filtered.tif: 100% [**************************************************] (0s)\n",
      "2022-08-08 14:38:32 (INFO): File S1_VV_filtered/S1_VV_20200425_filtered.tif will be written in 1 blocks of 29x23 pixels\n",
      "S1_VV_filtered/S1_VV_20200425_filtered.tif: 100% [**************************************************] (0s)\n",
      "2022-08-08 14:38:32 (INFO): File S1_VV_filtered/S1_VV_20200501_filtered.tif will be written in 1 blocks of 29x23 pixels\n",
      "S1_VV_filtered/S1_VV_20200501_filtered.tif: 100% [**************************************************] (0s)\n",
      "2022-08-08 14:38:32 (INFO): File S1_VV_filtered/S1_VV_20200507_filtered.tif will be written in 1 blocks of 29x23 pixels\n",
      "S1_VV_filtered/S1_VV_20200507_filtered.tif: 100% [**************************************************] (0s)\n",
      "2022-08-08 14:38:32 (INFO): File S1_VV_filtered/S1_VV_20200513_filtered.tif will be written in 1 blocks of 29x23 pixels\n",
      "S1_VV_filtered/S1_VV_20200513_filtered.tif: 100% [**************************************************] (0s)\n",
      "2022-08-08 14:38:32 (INFO): File S1_VV_filtered/S1_VV_20200519_filtered.tif will be written in 1 blocks of 29x23 pixels\n",
      "S1_VV_filtered/S1_VV_20200519_filtered.tif: 100% [**************************************************] (0s)\n",
      "2022-08-08 14:38:32 (INFO): File S1_VV_filtered/S1_VV_20200525_filtered.tif will be written in 1 blocks of 29x23 pixels\n",
      "S1_VV_filtered/S1_VV_20200525_filtered.tif: 100% [**************************************************] (0s)\n",
      "2022-08-08 14:38:32 (INFO): File S1_VV_filtered/S1_VV_20200531_filtered.tif will be written in 1 blocks of 29x23 pixels\n",
      "S1_VV_filtered/S1_VV_20200531_filtered.tif: 100% [**************************************************] (0s)\n",
      "2022-08-08 14:38:32 (INFO): File S1_VV_filtered/S1_VV_20200606_filtered.tif will be written in 1 blocks of 29x23 pixels\n",
      "S1_VV_filtered/S1_VV_20200606_filtered.tif: 100% [**************************************************] (0s)\n",
      "2022-08-08 14:38:32 (INFO): File S1_VV_filtered/S1_VV_20200612_filtered.tif will be written in 1 blocks of 29x23 pixels\n",
      "S1_VV_filtered/S1_VV_20200612_filtered.tif: 100% [**************************************************] (0s)\n",
      "2022-08-08 14:38:32 (INFO): File S1_VV_filtered/S1_VV_20200618_filtered.tif will be written in 1 blocks of 29x23 pixels\n",
      "S1_VV_filtered/S1_VV_20200618_filtered.tif: 100% [**************************************************] (0s)\n",
      "2022-08-08 14:38:32 (INFO): File S1_VV_filtered/S1_VV_20200624_filtered.tif will be written in 1 blocks of 29x23 pixels\n",
      "S1_VV_filtered/S1_VV_20200624_filtered.tif: 100% [**************************************************] (0s)\n",
      "2022-08-08 14:38:32 (INFO): File S1_VV_filtered/S1_VV_20200630_filtered.tif will be written in 1 blocks of 29x23 pixels\n",
      "S1_VV_filtered/S1_VV_20200630_filtered.tif: 100% [**************************************************] (0s)\n",
      "2022-08-08 14:38:32 (INFO): File S1_VV_filtered/S1_VV_20200706_filtered.tif will be written in 1 blocks of 29x23 pixels\n",
      "S1_VV_filtered/S1_VV_20200706_filtered.tif: 100% [**************************************************] (0s)\n",
      "2022-08-08 14:38:32 (INFO): File S1_VV_filtered/S1_VV_20200712_filtered.tif will be written in 1 blocks of 29x23 pixels\n",
      "S1_VV_filtered/S1_VV_20200712_filtered.tif: 100% [**************************************************] (0s)\n",
      "2022-08-08 14:38:32 (INFO): File S1_VV_filtered/S1_VV_20200718_filtered.tif will be written in 1 blocks of 29x23 pixels\n",
      "S1_VV_filtered/S1_VV_20200718_filtered.tif: 100% [**************************************************] (0s)\n",
      "2022-08-08 14:38:32 (INFO): File S1_VV_filtered/S1_VV_20200724_filtered.tif will be written in 1 blocks of 29x23 pixels\n",
      "S1_VV_filtered/S1_VV_20200724_filtered.tif: 100% [**************************************************] (0s)\n",
      "2022-08-08 14:38:32 (INFO): File S1_VV_filtered/S1_VV_20200730_filtered.tif will be written in 1 blocks of 29x23 pixels\n",
      "S1_VV_filtered/S1_VV_20200730_filtered.tif: 100% [**************************************************] (0s)\n",
      "2022-08-08 14:38:32 (INFO): File S1_VV_filtered/S1_VV_20200805_filtered.tif will be written in 1 blocks of 29x23 pixels\n",
      "S1_VV_filtered/S1_VV_20200805_filtered.tif: 100% [**************************************************] (0s)\n",
      "2022-08-08 14:38:32 (INFO): File S1_VV_filtered/S1_VV_20200811_filtered.tif will be written in 1 blocks of 29x23 pixels\n",
      "S1_VV_filtered/S1_VV_20200811_filtered.tif: 100% [**************************************************] (0s)\n",
      "2022-08-08 14:38:32 (INFO): Estimated memory for full processing: 0.00890541MB (avail.: 8 MB), optimal image partitioning: 1 blocks\n",
      "2022-08-08 14:38:32 (INFO): File S1_VV_filtered/enl.tif will be written in 1 blocks of 29x23 pixels\n",
      "Writing S1_VV_filtered/enl.tif...: 100% [**************************************************] (0s)\n"
     ]
    },
    {
     "name": "stdout",
     "output_type": "stream",
     "text": [
      "2022-08-08 14:38:32 (INFO) MultitempFilteringOutcore: Default RAM limit for OTB is 256 MB\n",
      "2022-08-08 14:38:32 (INFO) MultitempFilteringOutcore: GDAL maximum cache size is 781 MB\n",
      "2022-08-08 14:38:32 (INFO) MultitempFilteringOutcore: OTB will use at most 8 threads\n",
      "2022-08-08 14:38:32 (INFO): Loading metadata from official product\n",
      "2022-08-08 14:38:32 (INFO): Loading metadata from official product\n",
      "2022-08-08 14:38:32 (INFO): Loading metadata from official product\n",
      "2022-08-08 14:38:32 (INFO): Loading metadata from official product\n",
      "2022-08-08 14:38:32 (INFO): Loading metadata from official product\n",
      "2022-08-08 14:38:32 (INFO): Loading metadata from official product\n",
      "2022-08-08 14:38:32 (INFO): Loading metadata from official product\n",
      "2022-08-08 14:38:32 (INFO): Loading metadata from official product\n",
      "2022-08-08 14:38:32 (INFO): Loading metadata from official product\n",
      "2022-08-08 14:38:32 (INFO): Loading metadata from official product\n",
      "2022-08-08 14:38:32 (INFO): Loading metadata from official product\n",
      "2022-08-08 14:38:32 (INFO): Loading metadata from official product\n",
      "2022-08-08 14:38:32 (INFO): Loading metadata from official product\n",
      "2022-08-08 14:38:32 (INFO): Loading metadata from official product\n",
      "2022-08-08 14:38:32 (INFO): Loading metadata from official product\n",
      "2022-08-08 14:38:32 (INFO): Loading metadata from official product\n",
      "2022-08-08 14:38:32 (INFO): Loading metadata from official product\n",
      "2022-08-08 14:38:32 (INFO): Loading metadata from official product\n",
      "2022-08-08 14:38:32 (INFO): Loading metadata from official product\n",
      "2022-08-08 14:38:32 (INFO): Loading metadata from official product\n",
      "2022-08-08 14:38:32 (INFO): Loading metadata from official product\n",
      "2022-08-08 14:38:32 (INFO): Loading metadata from official product\n",
      "2022-08-08 14:38:32 (INFO): Loading metadata from official product\n",
      "2022-08-08 14:38:32 (INFO): Loading metadata from official product\n",
      "2022-08-08 14:38:32 (INFO): Loading metadata from official product\n",
      "2022-08-08 14:38:32 (INFO): Loading metadata from official product\n",
      "2022-08-08 14:38:32 (INFO): Loading metadata from official product\n",
      "2022-08-08 14:38:32 (INFO): Loading metadata from official product\n",
      "2022-08-08 14:38:32 (INFO): Loading metadata from official product\n",
      "2022-08-08 14:38:32 (INFO): Loading metadata from official product\n",
      "2022-08-08 14:38:32 (INFO): Estimated memory for full processing: 0.376572MB (avail.: 8 MB), optimal image partitioning: 1 blocks\n",
      "2022-08-08 14:38:32 (INFO): File ./S1_VH/outcore.tif will be written in 1 blocks of 29x23 pixels\n",
      "Writing ./S1_VH/outcore.tif...: 100% [**************************************************] (0s)\n",
      "2022-08-08 14:38:32 (INFO) MultitempFilteringFilter: Default RAM limit for OTB is 256 MB\n",
      "2022-08-08 14:38:32 (INFO) MultitempFilteringFilter: GDAL maximum cache size is 781 MB\n",
      "2022-08-08 14:38:32 (INFO) MultitempFilteringFilter: OTB will use at most 8 threads\n",
      "2022-08-08 14:38:32 (INFO): Loading metadata from official product\n",
      "2022-08-08 14:38:32 (INFO): Loading metadata from official product\n",
      "2022-08-08 14:38:32 (INFO): Loading metadata from official product\n",
      "2022-08-08 14:38:32 (INFO): Loading metadata from official product\n",
      "2022-08-08 14:38:32 (INFO): Loading metadata from official product\n",
      "2022-08-08 14:38:32 (INFO): Loading metadata from official product\n",
      "2022-08-08 14:38:32 (INFO): Loading metadata from official product\n",
      "2022-08-08 14:38:32 (INFO): Loading metadata from official product\n",
      "2022-08-08 14:38:32 (INFO): Loading metadata from official product\n",
      "2022-08-08 14:38:32 (INFO): Loading metadata from official product\n",
      "2022-08-08 14:38:32 (INFO): Loading metadata from official product\n",
      "2022-08-08 14:38:32 (INFO): Loading metadata from official product\n",
      "2022-08-08 14:38:32 (INFO): Loading metadata from official product\n",
      "2022-08-08 14:38:32 (INFO): Loading metadata from official product\n",
      "2022-08-08 14:38:32 (INFO): Loading metadata from official product\n",
      "2022-08-08 14:38:32 (INFO): Loading metadata from official product\n",
      "2022-08-08 14:38:32 (INFO): Loading metadata from official product\n",
      "2022-08-08 14:38:32 (INFO): Loading metadata from official product\n",
      "2022-08-08 14:38:32 (INFO): Loading metadata from official product\n",
      "2022-08-08 14:38:32 (INFO): Loading metadata from official product\n",
      "2022-08-08 14:38:32 (INFO): Loading metadata from official product\n",
      "2022-08-08 14:38:32 (INFO): Loading metadata from official product\n",
      "2022-08-08 14:38:32 (INFO): Loading metadata from official product\n",
      "2022-08-08 14:38:32 (INFO): Loading metadata from official product\n",
      "2022-08-08 14:38:32 (INFO): Loading metadata from official product\n",
      "2022-08-08 14:38:32 (INFO): Loading metadata from official product\n",
      "2022-08-08 14:38:32 (INFO): Loading metadata from official product\n",
      "2022-08-08 14:38:32 (INFO): Loading metadata from official product\n",
      "2022-08-08 14:38:32 (INFO): Loading metadata from official product\n",
      "2022-08-08 14:38:32 (INFO): Loading metadata from official product\n",
      "2022-08-08 14:38:32 (INFO): Loading metadata from official product\n",
      "2022-08-08 14:38:32 (INFO): Estimated memory for full processing: 0.012722MB (avail.: 256 MB), optimal image partitioning: 1 blocks\n",
      "2022-08-08 14:38:32 (INFO): File S1_VH_filtered/S1_VH_20200219_filtered.tif will be written in 1 blocks of 29x23 pixels\n",
      "S1_VH_filtered/S1_VH_20200219_filtered.tif: 100% [**************************************************] (0s)\n",
      "2022-08-08 14:38:32 (INFO): File S1_VH_filtered/S1_VH_20200225_filtered.tif will be written in 1 blocks of 29x23 pixels\n",
      "S1_VH_filtered/S1_VH_20200225_filtered.tif: 100% [**************************************************] (0s)\n",
      "2022-08-08 14:38:32 (INFO): File S1_VH_filtered/S1_VH_20200302_filtered.tif will be written in 1 blocks of 29x23 pixels\n",
      "S1_VH_filtered/S1_VH_20200302_filtered.tif: 100% [**************************************************] (0s)\n",
      "2022-08-08 14:38:32 (INFO): File S1_VH_filtered/S1_VH_20200308_filtered.tif will be written in 1 blocks of 29x23 pixels\n",
      "S1_VH_filtered/S1_VH_20200308_filtered.tif: 100% [**************************************************] (0s)\n",
      "2022-08-08 14:38:32 (INFO): File S1_VH_filtered/S1_VH_20200314_filtered.tif will be written in 1 blocks of 29x23 pixels\n",
      "S1_VH_filtered/S1_VH_20200314_filtered.tif: 100% [**************************************************] (0s)\n",
      "2022-08-08 14:38:32 (INFO): File S1_VH_filtered/S1_VH_20200320_filtered.tif will be written in 1 blocks of 29x23 pixels\n",
      "S1_VH_filtered/S1_VH_20200320_filtered.tif: 100% [**************************************************] (0s)\n",
      "2022-08-08 14:38:32 (INFO): File S1_VH_filtered/S1_VH_20200326_filtered.tif will be written in 1 blocks of 29x23 pixels\n",
      "S1_VH_filtered/S1_VH_20200326_filtered.tif: 100% [**************************************************] (0s)\n",
      "2022-08-08 14:38:32 (INFO): File S1_VH_filtered/S1_VH_20200401_filtered.tif will be written in 1 blocks of 29x23 pixels\n",
      "S1_VH_filtered/S1_VH_20200401_filtered.tif: 100% [**************************************************] (0s)\n",
      "2022-08-08 14:38:32 (INFO): File S1_VH_filtered/S1_VH_20200407_filtered.tif will be written in 1 blocks of 29x23 pixels\n",
      "S1_VH_filtered/S1_VH_20200407_filtered.tif: 100% [**************************************************] (0s)\n",
      "2022-08-08 14:38:32 (INFO): File S1_VH_filtered/S1_VH_20200413_filtered.tif will be written in 1 blocks of 29x23 pixels\n",
      "S1_VH_filtered/S1_VH_20200413_filtered.tif: 100% [**************************************************] (0s)\n",
      "2022-08-08 14:38:32 (INFO): File S1_VH_filtered/S1_VH_20200419_filtered.tif will be written in 1 blocks of 29x23 pixels\n",
      "S1_VH_filtered/S1_VH_20200419_filtered.tif: 100% [**************************************************] (0s)\n",
      "2022-08-08 14:38:32 (INFO): File S1_VH_filtered/S1_VH_20200425_filtered.tif will be written in 1 blocks of 29x23 pixels\n",
      "S1_VH_filtered/S1_VH_20200425_filtered.tif: 100% [**************************************************] (0s)\n",
      "2022-08-08 14:38:32 (INFO): File S1_VH_filtered/S1_VH_20200501_filtered.tif will be written in 1 blocks of 29x23 pixels\n",
      "S1_VH_filtered/S1_VH_20200501_filtered.tif: 100% [**************************************************] (0s)\n",
      "2022-08-08 14:38:32 (INFO): File S1_VH_filtered/S1_VH_20200507_filtered.tif will be written in 1 blocks of 29x23 pixels\n",
      "S1_VH_filtered/S1_VH_20200507_filtered.tif: 100% [**************************************************] (0s)\n",
      "2022-08-08 14:38:32 (INFO): File S1_VH_filtered/S1_VH_20200513_filtered.tif will be written in 1 blocks of 29x23 pixels\n",
      "S1_VH_filtered/S1_VH_20200513_filtered.tif: 100% [**************************************************] (0s)\n",
      "2022-08-08 14:38:32 (INFO): File S1_VH_filtered/S1_VH_20200519_filtered.tif will be written in 1 blocks of 29x23 pixels\n",
      "S1_VH_filtered/S1_VH_20200519_filtered.tif: 100% [**************************************************] (0s)\n",
      "2022-08-08 14:38:32 (INFO): File S1_VH_filtered/S1_VH_20200525_filtered.tif will be written in 1 blocks of 29x23 pixels\n",
      "S1_VH_filtered/S1_VH_20200525_filtered.tif: 100% [**************************************************] (0s)\n",
      "2022-08-08 14:38:32 (INFO): File S1_VH_filtered/S1_VH_20200531_filtered.tif will be written in 1 blocks of 29x23 pixels\n",
      "S1_VH_filtered/S1_VH_20200531_filtered.tif: 100% [**************************************************] (0s)\n",
      "2022-08-08 14:38:32 (INFO): File S1_VH_filtered/S1_VH_20200606_filtered.tif will be written in 1 blocks of 29x23 pixels\n",
      "S1_VH_filtered/S1_VH_20200606_filtered.tif: 100% [**************************************************] (0s)\n",
      "2022-08-08 14:38:32 (INFO): File S1_VH_filtered/S1_VH_20200612_filtered.tif will be written in 1 blocks of 29x23 pixels\n",
      "S1_VH_filtered/S1_VH_20200612_filtered.tif: 100% [**************************************************] (0s)\n",
      "2022-08-08 14:38:32 (INFO): File S1_VH_filtered/S1_VH_20200618_filtered.tif will be written in 1 blocks of 29x23 pixels\n",
      "S1_VH_filtered/S1_VH_20200618_filtered.tif: 100% [**************************************************] (0s)\n",
      "2022-08-08 14:38:32 (INFO): File S1_VH_filtered/S1_VH_20200624_filtered.tif will be written in 1 blocks of 29x23 pixels\n",
      "S1_VH_filtered/S1_VH_20200624_filtered.tif: 100% [**************************************************] (0s)\n",
      "2022-08-08 14:38:32 (INFO): File S1_VH_filtered/S1_VH_20200630_filtered.tif will be written in 1 blocks of 29x23 pixels\n",
      "S1_VH_filtered/S1_VH_20200630_filtered.tif: 100% [**************************************************] (0s)\n",
      "2022-08-08 14:38:32 (INFO): File S1_VH_filtered/S1_VH_20200706_filtered.tif will be written in 1 blocks of 29x23 pixels\n",
      "S1_VH_filtered/S1_VH_20200706_filtered.tif: 100% [**************************************************] (0s)\n",
      "2022-08-08 14:38:32 (INFO): File S1_VH_filtered/S1_VH_20200712_filtered.tif will be written in 1 blocks of 29x23 pixels\n",
      "S1_VH_filtered/S1_VH_20200712_filtered.tif: 100% [**************************************************] (0s)\n",
      "2022-08-08 14:38:32 (INFO): File S1_VH_filtered/S1_VH_20200718_filtered.tif will be written in 1 blocks of 29x23 pixels\n",
      "S1_VH_filtered/S1_VH_20200718_filtered.tif: 100% [**************************************************] (0s)\n",
      "2022-08-08 14:38:32 (INFO): File S1_VH_filtered/S1_VH_20200724_filtered.tif will be written in 1 blocks of 29x23 pixels\n",
      "S1_VH_filtered/S1_VH_20200724_filtered.tif: 100% [**************************************************] (0s)\n",
      "2022-08-08 14:38:32 (INFO): File S1_VH_filtered/S1_VH_20200730_filtered.tif will be written in 1 blocks of 29x23 pixels\n",
      "S1_VH_filtered/S1_VH_20200730_filtered.tif: 100% [**************************************************] (0s)\n",
      "2022-08-08 14:38:32 (INFO): File S1_VH_filtered/S1_VH_20200805_filtered.tif will be written in 1 blocks of 29x23 pixels\n",
      "S1_VH_filtered/S1_VH_20200805_filtered.tif: 100% [**************************************************] (0s)\n",
      "2022-08-08 14:38:32 (INFO): File S1_VH_filtered/S1_VH_20200811_filtered.tif will be written in 1 blocks of 29x23 pixels\n",
      "S1_VH_filtered/S1_VH_20200811_filtered.tif: 100% [**************************************************] (0s)\n",
      "2022-08-08 14:38:32 (INFO): Estimated memory for full processing: 0.00890541MB (avail.: 8 MB), optimal image partitioning: 1 blocks\n",
      "2022-08-08 14:38:32 (INFO): File S1_VH_filtered/enl.tif will be written in 1 blocks of 29x23 pixels\n",
      "Writing S1_VH_filtered/enl.tif...: 100% [**************************************************] (0s)\n"
     ]
    }
   ],
   "source": [
    "#Can take around 10 seconds\n",
    "mutlitemp = cmd_otb.MultitempSpeckleFiltering(otb_path = '/home/johann/Documents/OTB-8.0.1-Linux64/bin',\n",
    "                                              window = 3)\n",
    "s1_eopatch = mutlitemp.execute(s1_eopatch)"
   ]
  },
  {
   "cell_type": "code",
   "execution_count": 89,
   "id": "f6844f37",
   "metadata": {
    "pycharm": {
     "name": "#%%\n"
    }
   },
   "outputs": [],
   "source": [
    "#Compare backscatter values after multitemporal smoothing\n",
    "VH = s1_eopatch.data['VH_filtered']\n",
    "VV = s1_eopatch.data['VV_filtered']\n",
    "RVI_smoothed = (4*VH)/(VH+VV)\n",
    "#Add the value smoothed to the EOPatch\n",
    "add_rvi_smoothed = AddFeatureTask((FeatureType.DATA, \"RVI_smoothed\"))\n",
    "add_rvi_smoothed.execute(eopatch = s1_eopatch, data = RVI_smoothed)\n",
    "masking = preprocessing.MaskPixels([\"RVI_smoothed\"])\n",
    "s1_eopatch = masking.execute(s1_eopatch)"
   ]
  },
  {
   "cell_type": "code",
   "execution_count": 90,
   "id": "d10c479b",
   "metadata": {
    "pycharm": {
     "name": "#%%\n"
    }
   },
   "outputs": [
    {
     "data": {
      "image/png": "[encoded data removed]",
      "text/plain": [
       "<Figure size 360x360 with 1 Axes>"
      ]
     },
     "metadata": {
      "needs_background": "light"
     },
     "output_type": "display_data"
    }
   ],
   "source": [
    "plt.figure(figsize=(5, 5))\n",
    "plt.imshow(s1_eopatch.data['RVI_smoothed'][15,].squeeze().squeeze());\n",
    "plt.axis(False);\n",
    "plt.show()"
   ]
  },
  {
   "cell_type": "code",
   "execution_count": 91,
   "id": "226114f1",
   "metadata": {
    "pycharm": {
     "name": "#%%\n"
    }
   },
   "outputs": [
    {
     "data": {
      "image/png": "[encoded data removed]",
      "text/plain": [
       "<Figure size 432x288 with 1 Axes>"
      ]
     },
     "metadata": {
      "needs_background": "light"
     },
     "output_type": "display_data"
    }
   ],
   "source": [
    "#RVI smoothed Time Series from masked field\n",
    "variable = 'RVI_smoothed'\n",
    "\n",
    "curve_fit = preprocessing.CurveFitting(range_doy=(60, 300))\n",
    "doy, _ = curve_fit._get_ids_period(s1_eopatch)\n",
    "ts_mean = curve_fit.get_time_series_profile(s1_eopatch,feature=variable, feature_mask = 'MASK').flatten()\n",
    "fitted = curve_fit.execute(s1_eopatch, feature=variable, feature_mask = 'MASK')\n",
    "\n",
    "plt.plot(doy, fitted,  label='Double logistic')\n",
    "plt.plot(doy, ts_mean, label='Original')\n",
    "plt.legend(loc='upper left')\n",
    "plt.show()"
   ]
  },
  {
   "cell_type": "code",
   "execution_count": null,
   "id": "d62d985d",
   "metadata": {
    "pycharm": {
     "name": "#%%\n"
    }
   },
   "outputs": [],
   "source": []
  }
 ],
 "metadata": {
  "kernelspec": {
   "display_name": "eo_crops",
   "language": "python",
   "name": "eo_crops"
  },
  "language_info": {
   "codemirror_mode": {
    "name": "ipython",
    "version": 3
   },
   "file_extension": ".py",
   "mimetype": "text/x-python",
   "name": "python",
   "nbconvert_exporter": "python",
   "pygments_lexer": "ipython3",
   "version": "3.7.12"
  }
 },
 "nbformat": 4,
 "nbformat_minor": 5
}
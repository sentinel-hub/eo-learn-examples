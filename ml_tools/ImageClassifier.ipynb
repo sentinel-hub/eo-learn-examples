{
 "cells": [
  {
   "cell_type": "markdown",
   "metadata": {},
   "source": [
    "# Toy example of ImagePixelClassifier and ImagePatchClassifier"
   ]
  },
  {
   "cell_type": "markdown",
   "metadata": {},
   "source": [
    "This notebook shows the usage of the image classsifiers on a toy example "
   ]
  },
  {
   "cell_type": "code",
   "execution_count": 1,
   "metadata": {},
   "outputs": [],
   "source": [
    "%reload_ext autoreload\n",
    "%autoreload 2\n",
    "\n",
    "import itertools\n",
    "\n",
    "import numpy as np\n",
    "\n",
    "from eolearn.ml_tools import ImagePatchClassifier, ImagePixelClassifier"
   ]
  },
  {
   "cell_type": "markdown",
   "metadata": {},
   "source": [
    "## Create dummy patch classifier"
   ]
  },
  {
   "cell_type": "markdown",
   "metadata": {},
   "source": [
    "- predict: returns maximum value in an array\n",
    "- predict_proba: returns maxiumum and minimum value in an array"
   ]
  },
  {
   "cell_type": "code",
   "execution_count": 2,
   "metadata": {},
   "outputs": [],
   "source": [
    "class DummyPatchClassifier:\n",
    "    def __init__(self, receptive_field):\n",
    "        self.receptive_field = receptive_field\n",
    "\n",
    "    def _predict(self, X):\n",
    "        return np.max(X)\n",
    "\n",
    "    def _predict_proba(self, X):\n",
    "        return np.max(X), np.min(X)\n",
    "\n",
    "    def predict(self, X):\n",
    "        if X.shape[1:3] == self.receptive_field:\n",
    "            return np.asarray([self._predict(example) for example in X], dtype=np.int)\n",
    "        else:\n",
    "            raise ValueError(\"Dummy Classifier: input of incorrect shape\")\n",
    "\n",
    "    def predict_proba(self, X):\n",
    "        if X.shape[1:3] == self.receptive_field:\n",
    "            return np.asarray([self._predict_proba(example) for example in X], dtype=np.float)\n",
    "        else:\n",
    "            raise ValueError(\"Dummy Classifier: input of incorrect shape\")"
   ]
  },
  {
   "cell_type": "markdown",
   "metadata": {},
   "source": [
    "## Create dummy data set"
   ]
  },
  {
   "cell_type": "markdown",
   "metadata": {},
   "source": [
    "50 images of size 10 x 10 x 3 bands"
   ]
  },
  {
   "cell_type": "code",
   "execution_count": 3,
   "metadata": {},
   "outputs": [],
   "source": [
    "X = np.random.randint(0, 100, (50, 10, 10, 3))"
   ]
  },
  {
   "cell_type": "code",
   "execution_count": 4,
   "metadata": {},
   "outputs": [
    {
     "data": {
      "text/plain": [
       "(50, 10, 10, 3)"
      ]
     },
     "execution_count": 4,
     "metadata": {},
     "output_type": "execute_result"
    }
   ],
   "source": [
    "X.shape"
   ]
  },
  {
   "cell_type": "code",
   "execution_count": 5,
   "metadata": {},
   "outputs": [
    {
     "data": {
      "text/plain": [
       "array([[ 4, 18, 15, 41, 76, 14, 72, 97, 37, 78],\n",
       "       [72, 12, 48, 70, 35, 93, 51, 85,  7, 86],\n",
       "       [73, 24, 88, 49, 66, 73, 22,  6, 28, 75],\n",
       "       [38, 33, 97, 26, 67, 62, 93,  5,  7, 61],\n",
       "       [76,  3,  3, 98, 32, 12, 36, 84, 50,  9],\n",
       "       [89, 27, 63, 37, 85, 49, 63, 78, 65, 42],\n",
       "       [76, 31, 81,  4,  7, 33, 38, 61, 70, 16],\n",
       "       [38, 45, 42, 95, 31,  9, 55, 89, 89, 66],\n",
       "       [86,  4,  4, 43, 78, 76, 88, 65, 73, 49],\n",
       "       [19, 54, 40, 81, 49, 46, 65, 23, 53,  1]])"
      ]
     },
     "execution_count": 5,
     "metadata": {},
     "output_type": "execute_result"
    }
   ],
   "source": [
    "X[0, :, :, 2]"
   ]
  },
  {
   "cell_type": "markdown",
   "metadata": {},
   "source": [
    "## Create `ImagePatchClassifier` and initialise it with `DummyPatchClassifier`"
   ]
  },
  {
   "cell_type": "code",
   "execution_count": 6,
   "metadata": {},
   "outputs": [],
   "source": [
    "receptive_field = (2, 2)\n",
    "dummy_classifier = DummyPatchClassifier(receptive_field=receptive_field)"
   ]
  },
  {
   "cell_type": "code",
   "execution_count": 7,
   "metadata": {},
   "outputs": [],
   "source": [
    "patch_classifier = ImagePatchClassifier(dummy_classifier, dummy_classifier.receptive_field)"
   ]
  },
  {
   "cell_type": "markdown",
   "metadata": {},
   "source": [
    "### `predict` (run classifier over all patches and collect results)"
   ]
  },
  {
   "cell_type": "code",
   "execution_count": 8,
   "metadata": {},
   "outputs": [],
   "source": [
    "Xprediction = patch_classifier.image_predict(X)"
   ]
  },
  {
   "cell_type": "code",
   "execution_count": 9,
   "metadata": {},
   "outputs": [
    {
     "data": {
      "text/plain": [
       "(50, 10, 10)"
      ]
     },
     "execution_count": 9,
     "metadata": {},
     "output_type": "execute_result"
    }
   ],
   "source": [
    "Xprediction.shape"
   ]
  },
  {
   "cell_type": "code",
   "execution_count": 10,
   "metadata": {},
   "outputs": [
    {
     "data": {
      "text/plain": [
       "array([[86., 86., 90., 90., 93., 93., 97., 97., 96., 96.],\n",
       "       [86., 86., 90., 90., 93., 93., 97., 97., 96., 96.],\n",
       "       [85., 85., 97., 97., 97., 97., 99., 99., 81., 81.],\n",
       "       [85., 85., 97., 97., 97., 97., 99., 99., 81., 81.],\n",
       "       [89., 89., 98., 98., 85., 85., 84., 84., 83., 83.],\n",
       "       [89., 89., 98., 98., 85., 85., 84., 84., 83., 83.],\n",
       "       [98., 98., 99., 99., 97., 97., 90., 90., 89., 89.],\n",
       "       [98., 98., 99., 99., 97., 97., 90., 90., 89., 89.],\n",
       "       [97., 97., 88., 88., 84., 84., 95., 95., 91., 91.],\n",
       "       [97., 97., 88., 88., 84., 84., 95., 95., 91., 91.]])"
      ]
     },
     "execution_count": 10,
     "metadata": {},
     "output_type": "execute_result"
    }
   ],
   "source": [
    "Xprediction[0]"
   ]
  },
  {
   "cell_type": "code",
   "execution_count": 11,
   "metadata": {},
   "outputs": [
    {
     "name": "stdout",
     "output_type": "stream",
     "text": [
      "True\n"
     ]
    }
   ],
   "source": [
    "is_equal = True\n",
    "for i, j, k in itertools.product(range(0, 5), range(0, 5), range(0, 50)):\n",
    "    if int(Xprediction[k, 2 * i, 2 * j]) != np.max(X[k, 2 * i : 2 * i + 2, 2 * j : 2 * j + 2, :]):\n",
    "        print(Xprediction[k, i, j])\n",
    "        print(np.max(X[k, 2 * i : 2 * i + 2, 2 * j : 2 * j + 2, :]))\n",
    "        is_equal = False\n",
    "        break\n",
    "\n",
    "print(is_equal)"
   ]
  },
  {
   "cell_type": "markdown",
   "metadata": {},
   "source": [
    "### `predict_proba` (run classifier over all patches and collect results)"
   ]
  },
  {
   "cell_type": "code",
   "execution_count": 12,
   "metadata": {},
   "outputs": [],
   "source": [
    "Xprobabilities = patch_classifier.image_predict_proba(X)"
   ]
  },
  {
   "cell_type": "code",
   "execution_count": 13,
   "metadata": {},
   "outputs": [
    {
     "data": {
      "text/plain": [
       "(50, 10, 10, 2)"
      ]
     },
     "execution_count": 13,
     "metadata": {},
     "output_type": "execute_result"
    }
   ],
   "source": [
    "Xprobabilities.shape"
   ]
  },
  {
   "cell_type": "code",
   "execution_count": 14,
   "metadata": {},
   "outputs": [
    {
     "data": {
      "text/plain": [
       "True"
      ]
     },
     "execution_count": 14,
     "metadata": {},
     "output_type": "execute_result"
    }
   ],
   "source": [
    "np.array_equal(Xprediction, Xprobabilities[:, :, :, 0])"
   ]
  },
  {
   "cell_type": "code",
   "execution_count": 15,
   "metadata": {},
   "outputs": [
    {
     "name": "stdout",
     "output_type": "stream",
     "text": [
      "True\n"
     ]
    }
   ],
   "source": [
    "is_equal = True\n",
    "for i, j, k in itertools.product(range(0, 5), range(0, 5), range(0, 50)):\n",
    "    if int(Xprobabilities[k, 2 * i, 2 * j, 1]) != np.min(X[k, 2 * i : 2 * i + 2, 2 * j : 2 * j + 2, :]):\n",
    "        is_equal = False\n",
    "        break\n",
    "\n",
    "print(is_equal)"
   ]
  },
  {
   "cell_type": "markdown",
   "metadata": {},
   "source": [
    "## Create `DummyPixelClassifier` and `ImagePixelClassifier`"
   ]
  },
  {
   "cell_type": "code",
   "execution_count": 16,
   "metadata": {},
   "outputs": [],
   "source": [
    "class DummyPixelClassifier:\n",
    "    def _predict(self, X):\n",
    "        return np.max(X)\n",
    "\n",
    "    def _predict_proba(self, X):\n",
    "        return np.max(X), np.min(X)\n",
    "\n",
    "    def predict(self, X):\n",
    "        return np.asarray([self._predict(example) for example in X], dtype=np.int)\n",
    "\n",
    "    def predict_proba(self, X):\n",
    "        return np.asarray([self._predict_proba(example) for example in X], dtype=np.float)"
   ]
  },
  {
   "cell_type": "code",
   "execution_count": 17,
   "metadata": {},
   "outputs": [],
   "source": [
    "dummy_pixel_classifier = DummyPixelClassifier()"
   ]
  },
  {
   "cell_type": "code",
   "execution_count": 18,
   "metadata": {},
   "outputs": [],
   "source": [
    "pixel_classifier = ImagePixelClassifier(dummy_pixel_classifier)"
   ]
  },
  {
   "cell_type": "markdown",
   "metadata": {},
   "source": [
    "### `predict` (run classifier over all patches and collect results)"
   ]
  },
  {
   "cell_type": "code",
   "execution_count": 19,
   "metadata": {},
   "outputs": [],
   "source": [
    "Xprediction = pixel_classifier.image_predict(X)"
   ]
  },
  {
   "cell_type": "code",
   "execution_count": 20,
   "metadata": {},
   "outputs": [
    {
     "data": {
      "text/plain": [
       "(50, 10, 10)"
      ]
     },
     "execution_count": 20,
     "metadata": {},
     "output_type": "execute_result"
    }
   ],
   "source": [
    "Xprediction.shape"
   ]
  },
  {
   "cell_type": "code",
   "execution_count": 21,
   "metadata": {},
   "outputs": [
    {
     "data": {
      "text/plain": [
       "True"
      ]
     },
     "execution_count": 21,
     "metadata": {},
     "output_type": "execute_result"
    }
   ],
   "source": [
    "np.array_equal(Xprediction, np.max(X, axis=3))"
   ]
  },
  {
   "cell_type": "markdown",
   "metadata": {},
   "source": [
    "### `predict_proba` (run classifier over all patches and collect results)"
   ]
  },
  {
   "cell_type": "code",
   "execution_count": 22,
   "metadata": {},
   "outputs": [],
   "source": [
    "Xprobabilities = pixel_classifier.image_predict_proba(X)"
   ]
  },
  {
   "cell_type": "code",
   "execution_count": 23,
   "metadata": {},
   "outputs": [
    {
     "data": {
      "text/plain": [
       "(50, 10, 10, 2)"
      ]
     },
     "execution_count": 23,
     "metadata": {},
     "output_type": "execute_result"
    }
   ],
   "source": [
    "Xprobabilities.shape"
   ]
  },
  {
   "cell_type": "code",
   "execution_count": 24,
   "metadata": {},
   "outputs": [
    {
     "data": {
      "text/plain": [
       "True"
      ]
     },
     "execution_count": 24,
     "metadata": {},
     "output_type": "execute_result"
    }
   ],
   "source": [
    "np.array_equal(Xprobabilities[..., 1], np.min(X, axis=3))"
   ]
  }
 ],
 "metadata": {
  "kernelspec": {
   "display_name": "Python 3",
   "language": "python",
   "name": "python3"
  },
  "language_info": {
   "codemirror_mode": {
    "name": "ipython",
    "version": 3
   },
   "file_extension": ".py",
   "mimetype": "text/x-python",
   "name": "python",
   "nbconvert_exporter": "python",
   "pygments_lexer": "ipython3",
   "version": "3.5.3"
  }
 },
 "nbformat": 4,
 "nbformat_minor": 2
}

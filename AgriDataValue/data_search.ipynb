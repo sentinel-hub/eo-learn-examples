{
 "cells": [
  {
   "cell_type": "markdown",
   "metadata": {},
   "source": [
    "# Search for available data\n",
    "\n",
    "Before downloading satellite data it is important to know exactly which data is available and what kind of properties it has. Sentinel Hub offers the [Catalog API](#Sentinel-Hub-Catalog-API) to search collections of data. In AgriDataValue, the components consuming the data from the Climate Change / CAP compliance toolbox, can use the Catalog API responses to know which imagery /indicatore are available in the toolbox. \n",
    "\n",
    "In this example tutorial we will show how to use the service to find data collections and then download data from them. "
   ]
  },
  {
   "cell_type": "code",
   "execution_count": 157,
   "metadata": {},
   "outputs": [],
   "source": [
    "%matplotlib inline\n",
    "\n",
    "import datetime as dt\n",
    "\n",
    "import matplotlib.pyplot as plt\n",
    "import numpy as np\n",
    "\n",
    "from sentinelhub import CRS, BBox, DataCollection, SHConfig"
   ]
  },
  {
   "cell_type": "markdown",
   "metadata": {},
   "source": [
    "## Sentinel Hub Catalog API\n",
    "\n",
    "Catalog API is the main service with the most configurable search options. It supports searches over all available data collections and provides the most information about each item in a collection. The implementation is based on [STAC REST API specifications](https://stacspec.org/).\n",
    "\n",
    "More information about the service is available in:\n",
    "\n",
    "- [Documentation](https://docs.sentinel-hub.com/api/latest/api/catalog)\n",
    "- [API definition](https://docs.sentinel-hub.com/api/latest/reference/#tag/Capabilities)\n",
    "\n",
    "\n",
    "### Prerequisites\n",
    "\n",
    "BYOC API requires Sentinel Hub account. Please see [configuration instructions](https://sentinelhub-py.readthedocs.io/en/latest/configure.html) how to set up your configuration."
   ]
  },
  {
   "cell_type": "code",
   "execution_count": 158,
   "metadata": {},
   "outputs": [],
   "source": [
    "config = SHConfig()\n",
    "\n",
    "if config.sh_client_id == \"\" or config.sh_client_secret == \"\":\n",
    "    print(\"Warning! To use Sentinel Hub Catalog API, please provide the credentials (client ID and client secret).\")"
   ]
  },
  {
   "cell_type": "markdown",
   "metadata": {},
   "source": [
    "### Available data collections\n",
    "\n",
    "In the first, step let's initialize a `SentinelHubCatalog` class and check basic service info:"
   ]
  },
  {
   "cell_type": "code",
   "execution_count": 159,
   "metadata": {},
   "outputs": [
    {
     "data": {
      "text/plain": [
       "{'type': 'Catalog',\n",
       " 'stac_version': '1.0.0',\n",
       " 'id': 'sentinel-hub',\n",
       " 'title': 'Sentinel Hub STAC catalog',\n",
       " 'description': 'STAC v1.0.0 implementation by Sentinel Hub',\n",
       " 'conformsTo': ['http://www.opengis.net/spec/ogcapi-features-1/1.0/conf/core',\n",
       "  'http://www.opengis.net/spec/ogcapi-features-1/1.0/conf/oas30',\n",
       "  'http://www.opengis.net/spec/ogcapi-features-1/1.0/conf/geojson',\n",
       "  'https://api.stacspec.org/v1.0.0/core',\n",
       "  'https://api.stacspec.org/v1.0.0/collections',\n",
       "  'https://api.stacspec.org/v1.0.0/ogcapi-features',\n",
       "  'https://api.stacspec.org/v1.0.0/ogcapi-features#fields',\n",
       "  'https://api.stacspec.org/v1.0.0/ogcapi-features#context',\n",
       "  'https://api.stacspec.org/v1.0.0/ogcapi-features#filter',\n",
       "  'https://api.stacspec.org/v1.0.0/item-search',\n",
       "  'https://api.stacspec.org/v1.0.0/item-search#fields',\n",
       "  'https://api.stacspec.org/v1.0.0/item-search#context',\n",
       "  'https://api.stacspec.org/v1.0.0/item-search#filter',\n",
       "  'http://www.opengis.net/spec/ogcapi-features-3/1.0/conf/filter',\n",
       "  'http://www.opengis.net/spec/ogcapi-features-3/1.0/conf/features-filter',\n",
       "  'http://www.opengis.net/spec/cql2/1.0/conf/cql2-text',\n",
       "  'http://www.opengis.net/spec/cql2/1.0/conf/cql2-json',\n",
       "  'http://www.opengis.net/spec/cql2/1.0/conf/basic-cql2'],\n",
       " 'links': [{'href': 'https://services.sentinel-hub.com/api/v1/catalog/1.0.0/',\n",
       "   'rel': 'root',\n",
       "   'type': 'application/json'},\n",
       "  {'href': 'https://services.sentinel-hub.com/api/v1/catalog/1.0.0/',\n",
       "   'rel': 'self',\n",
       "   'type': 'application/json'},\n",
       "  {'href': 'https://services.sentinel-hub.com/api/v1/catalog/1.0.0/collections',\n",
       "   'rel': 'data',\n",
       "   'type': 'application/json'},\n",
       "  {'href': 'https://services.sentinel-hub.com/api/v1/catalog/1.0.0/conformance',\n",
       "   'rel': 'conformance',\n",
       "   'type': 'application/json',\n",
       "   'title': 'STAC conformance classes implemented by this server'},\n",
       "  {'href': 'https://services.sentinel-hub.com/api/v1/catalog/1.0.0/search',\n",
       "   'rel': 'search',\n",
       "   'type': 'application/geo+json',\n",
       "   'title': 'STAC search',\n",
       "   'method': 'GET'},\n",
       "  {'href': 'https://services.sentinel-hub.com/api/v1/catalog/1.0.0/search',\n",
       "   'rel': 'search',\n",
       "   'type': 'application/geo+json',\n",
       "   'title': 'STAC search',\n",
       "   'method': 'POST'},\n",
       "  {'href': 'https://services.sentinel-hub.com/api/v1/catalog/1.0.0/queryables',\n",
       "   'rel': 'http://www.opengis.net/def/rel/ogc/1.0/queryables',\n",
       "   'type': 'application/schema+json'},\n",
       "  {'href': 'https://services.sentinel-hub.com/api/v1/catalog/1.0.0/collections/sentinel-2-l1c',\n",
       "   'rel': 'child',\n",
       "   'type': 'application/json',\n",
       "   'title': 'Sentinel 2 L1C'},\n",
       "  {'href': 'https://services.sentinel-hub.com/api/v1/catalog/1.0.0/collections/sentinel-1-grd',\n",
       "   'rel': 'child',\n",
       "   'type': 'application/json',\n",
       "   'title': 'Sentinel 1 GRD'},\n",
       "  {'href': 'https://services.sentinel-hub.com/api/v1/catalog/1.0.0/collections/sentinel-2-l2a',\n",
       "   'rel': 'child',\n",
       "   'type': 'application/json',\n",
       "   'title': 'Sentinel 2 L2A'},\n",
       "  {'href': 'https://docs.sentinel-hub.com/api/latest/reference/openapi.v1.yaml',\n",
       "   'rel': 'service-desc',\n",
       "   'type': 'application/vnd.oai.openapi;version=\"3.1\"',\n",
       "   'title': 'OpenAPI service description'},\n",
       "  {'href': 'https://docs.sentinel-hub.com/api/latest/reference/#tag/catalog_core',\n",
       "   'rel': 'service-doc',\n",
       "   'type': 'text/html',\n",
       "   'title': 'OpenAPI service documentation'}]}"
      ]
     },
     "execution_count": 159,
     "metadata": {},
     "output_type": "execute_result"
    }
   ],
   "source": [
    "from sentinelhub import SentinelHubCatalog\n",
    "\n",
    "catalog = SentinelHubCatalog(config=config)\n",
    "\n",
    "catalog.get_info()"
   ]
  },
  {
   "cell_type": "markdown",
   "metadata": {},
   "source": [
    "Each data collection has its own catalog collection. The default collections are already listed in the info response. Information about all available collections, including user-defined [BYOC](https://docs.sentinel-hub.com/api/latest/data/byoc/) and [batch](https://docs.sentinel-hub.com/api/latest/api/batch/) collections, can be obtained with the next example.\n",
    "\n",
    "The following code will obtain information about all AgriDataValue collections that are published as BYOC collection. \n",
    "Note that these collections are currently stored on a project-internal account, so running this code without appropriate credentials linked to that account will not provide the same response. "
   ]
  },
  {
   "cell_type": "code",
   "execution_count": 160,
   "metadata": {},
   "outputs": [
    {
     "data": {
      "text/plain": [
       "{'stac_version': '1.0.0',\n",
       " 'stac_extensions': ['https://stac-extensions.github.io/scientific/v1.0.0/schema.json',\n",
       "  'https://stac-extensions.github.io/eo/v1.0.0/schema.json'],\n",
       " 'type': 'Collection',\n",
       " 'id': 'sentinel-2-l2a',\n",
       " 'title': 'Sentinel 2 L2A',\n",
       " 'description': 'Sentinel 2 imagery processed to level 2A',\n",
       " 'sci:citation': 'Modified Copernicus Sentinel data [Year]/Sentinel Hub',\n",
       " 'license': 'proprietary',\n",
       " 'providers': [{'name': 'ESA',\n",
       "   'roles': ['producer'],\n",
       "   'url': 'https://esa.int/'},\n",
       "  {'name': 'AWS', 'roles': ['host'], 'url': 'https://aws.amazon.com/'},\n",
       "  {'name': 'Sinergise',\n",
       "   'roles': ['processor'],\n",
       "   'url': 'https://www.sinergise.com/'}],\n",
       " 'extent': {'spatial': {'bbox': [[-180.0, -56.0, 180.0, 83.0]]},\n",
       "  'temporal': {'interval': [['2016-11-01T00:00:00Z', None]]}},\n",
       " 'summaries': {'platform': ['sentinel-2a', 'sentinel-2b'],\n",
       "  'instrument': ['msi'],\n",
       "  'constellation': ['sentinel-2'],\n",
       "  'gsd': [10],\n",
       "  'eo:cloud_cover': {'minimum': 0, 'maximum': 100},\n",
       "  'eo:bands': [{'name': 'B01',\n",
       "    'common_name': 'coastal',\n",
       "    'center_wavelength': 0.4427,\n",
       "    'full_width_half_max': 0.021},\n",
       "   {'name': 'B02',\n",
       "    'common_name': 'blue',\n",
       "    'center_wavelength': 0.4924,\n",
       "    'full_width_half_max': 0.066},\n",
       "   {'name': 'B03',\n",
       "    'common_name': 'green',\n",
       "    'center_wavelength': 0.5598,\n",
       "    'full_width_half_max': 0.036},\n",
       "   {'name': 'B04',\n",
       "    'common_name': 'red',\n",
       "    'center_wavelength': 0.6646,\n",
       "    'full_width_half_max': 0.031},\n",
       "   {'name': 'B05', 'center_wavelength': 0.7041, 'full_width_half_max': 0.015},\n",
       "   {'name': 'B06', 'center_wavelength': 0.7405, 'full_width_half_max': 0.015},\n",
       "   {'name': 'B07', 'center_wavelength': 0.7828, 'full_width_half_max': 0.02},\n",
       "   {'name': 'B08',\n",
       "    'common_name': 'nir',\n",
       "    'center_wavelength': 0.8328,\n",
       "    'full_width_half_max': 0.106},\n",
       "   {'name': 'B8A',\n",
       "    'common_name': 'nir08',\n",
       "    'center_wavelength': 0.8647,\n",
       "    'full_width_half_max': 0.021},\n",
       "   {'name': 'B09',\n",
       "    'common_name': 'nir09',\n",
       "    'center_wavelength': 0.9451,\n",
       "    'full_width_half_max': 0.02},\n",
       "   {'name': 'B11',\n",
       "    'common_name': 'swir16',\n",
       "    'center_wavelength': 1.6137,\n",
       "    'full_width_half_max': 0.091},\n",
       "   {'name': 'B12',\n",
       "    'common_name': 'swir22',\n",
       "    'center_wavelength': 2.2024,\n",
       "    'full_width_half_max': 0.175}]},\n",
       " 'links': [{'href': 'https://services.sentinel-hub.com/api/v1/catalog/1.0.0/',\n",
       "   'rel': 'root',\n",
       "   'type': 'application/json'},\n",
       "  {'href': 'https://services.sentinel-hub.com/api/v1/catalog/1.0.0/collections/sentinel-2-l2a',\n",
       "   'rel': 'self',\n",
       "   'type': 'application/json'},\n",
       "  {'href': 'https://services.sentinel-hub.com/api/v1/catalog/1.0.0/collections',\n",
       "   'rel': 'parent',\n",
       "   'type': 'application/json'},\n",
       "  {'href': 'https://services.sentinel-hub.com/api/v1/catalog/1.0.0/collections/sentinel-2-l2a/queryables',\n",
       "   'rel': 'http://www.opengis.net/def/rel/ogc/1.0/queryables',\n",
       "   'type': 'application/schema+json'},\n",
       "  {'href': 'https://services.sentinel-hub.com/api/v1/catalog/1.0.0/collections/sentinel-2-l2a/items',\n",
       "   'rel': 'items',\n",
       "   'type': 'application/geo+json'}]}"
      ]
     },
     "execution_count": 160,
     "metadata": {},
     "output_type": "execute_result"
    }
   ],
   "source": [
    "catalog.get_collection(DataCollection.SENTINEL2_L2A)"
   ]
  },
  {
   "cell_type": "code",
   "execution_count": 161,
   "metadata": {},
   "outputs": [
    {
     "data": {
      "text/plain": [
       "[{'stac_version': '1.0.0',\n",
       "  'stac_extensions': [],\n",
       "  'type': 'Collection',\n",
       "  'id': 'byoc-088697b8-d145-4ff3-bbb2-87bd94ea0324',\n",
       "  'title': 'ADV - indicators - tavg',\n",
       "  'description': 'ADV - indicators - tavg',\n",
       "  'license': 'proprietary',\n",
       "  'keywords': ['has_tiles_with_sensing_time'],\n",
       "  'providers': [],\n",
       "  'extent': {'spatial': {'bbox': [[-10.474726713,\n",
       "      34.640273188,\n",
       "      34.625273287,\n",
       "      70.040273188]]},\n",
       "   'temporal': {'interval': [['2024-01-01T00:00:00Z',\n",
       "      '2024-01-01T00:00:00Z']]}},\n",
       "  'summaries': {},\n",
       "  'links': [{'href': 'https://services.sentinel-hub.com/api/v1/catalog/1.0.0/',\n",
       "    'rel': 'root',\n",
       "    'type': 'application/json'},\n",
       "   {'href': 'https://services.sentinel-hub.com/api/v1/catalog/1.0.0/collections/byoc-088697b8-d145-4ff3-bbb2-87bd94ea0324',\n",
       "    'rel': 'self',\n",
       "    'type': 'application/json'},\n",
       "   {'href': 'https://services.sentinel-hub.com/api/v1/catalog/1.0.0/collections',\n",
       "    'rel': 'parent',\n",
       "    'type': 'application/json'},\n",
       "   {'href': 'https://services.sentinel-hub.com/api/v1/catalog/1.0.0/collections/byoc-088697b8-d145-4ff3-bbb2-87bd94ea0324/queryables',\n",
       "    'rel': 'http://www.opengis.net/def/rel/ogc/1.0/queryables',\n",
       "    'type': 'application/schema+json'},\n",
       "   {'href': 'https://services.sentinel-hub.com/api/v1/catalog/1.0.0/collections/byoc-088697b8-d145-4ff3-bbb2-87bd94ea0324/items',\n",
       "    'rel': 'items',\n",
       "    'type': 'application/geo+json'}]},\n",
       " {'stac_version': '1.0.0',\n",
       "  'stac_extensions': [],\n",
       "  'type': 'Collection',\n",
       "  'id': 'byoc-13d40522-205b-42e8-8b34-4ddb27fd3452',\n",
       "  'title': 'ADV - indicators - evapo',\n",
       "  'description': 'ADV - indicators - evapo',\n",
       "  'license': 'proprietary',\n",
       "  'keywords': ['has_tiles_with_sensing_time'],\n",
       "  'providers': [],\n",
       "  'extent': {'spatial': {'bbox': [[-10.47473, 34.64027, 34.62527, 70.04027]]},\n",
       "   'temporal': {'interval': [['2024-01-01T00:00:00Z',\n",
       "      '2024-01-01T00:00:00Z']]}},\n",
       "  'summaries': {},\n",
       "  'links': [{'href': 'https://services.sentinel-hub.com/api/v1/catalog/1.0.0/',\n",
       "    'rel': 'root',\n",
       "    'type': 'application/json'},\n",
       "   {'href': 'https://services.sentinel-hub.com/api/v1/catalog/1.0.0/collections/byoc-13d40522-205b-42e8-8b34-4ddb27fd3452',\n",
       "    'rel': 'self',\n",
       "    'type': 'application/json'},\n",
       "   {'href': 'https://services.sentinel-hub.com/api/v1/catalog/1.0.0/collections',\n",
       "    'rel': 'parent',\n",
       "    'type': 'application/json'},\n",
       "   {'href': 'https://services.sentinel-hub.com/api/v1/catalog/1.0.0/collections/byoc-13d40522-205b-42e8-8b34-4ddb27fd3452/queryables',\n",
       "    'rel': 'http://www.opengis.net/def/rel/ogc/1.0/queryables',\n",
       "    'type': 'application/schema+json'},\n",
       "   {'href': 'https://services.sentinel-hub.com/api/v1/catalog/1.0.0/collections/byoc-13d40522-205b-42e8-8b34-4ddb27fd3452/items',\n",
       "    'rel': 'items',\n",
       "    'type': 'application/geo+json'}]},\n",
       " {'stac_version': '1.0.0',\n",
       "  'stac_extensions': [],\n",
       "  'type': 'Collection',\n",
       "  'id': 'byoc-6777e5d3-3309-4771-a38a-79addcf31d36',\n",
       "  'title': 'ADV - indicators - tmax',\n",
       "  'description': 'ADV - indicators - tmax',\n",
       "  'license': 'proprietary',\n",
       "  'keywords': ['has_tiles_with_sensing_time'],\n",
       "  'providers': [],\n",
       "  'extent': {'spatial': {'bbox': [[-10.474726713,\n",
       "      34.640273188,\n",
       "      34.625273287,\n",
       "      70.040273188]]},\n",
       "   'temporal': {'interval': [['2024-01-01T00:00:00Z',\n",
       "      '2024-01-01T00:00:00Z']]}},\n",
       "  'summaries': {},\n",
       "  'links': [{'href': 'https://services.sentinel-hub.com/api/v1/catalog/1.0.0/',\n",
       "    'rel': 'root',\n",
       "    'type': 'application/json'},\n",
       "   {'href': 'https://services.sentinel-hub.com/api/v1/catalog/1.0.0/collections/byoc-6777e5d3-3309-4771-a38a-79addcf31d36',\n",
       "    'rel': 'self',\n",
       "    'type': 'application/json'},\n",
       "   {'href': 'https://services.sentinel-hub.com/api/v1/catalog/1.0.0/collections',\n",
       "    'rel': 'parent',\n",
       "    'type': 'application/json'},\n",
       "   {'href': 'https://services.sentinel-hub.com/api/v1/catalog/1.0.0/collections/byoc-6777e5d3-3309-4771-a38a-79addcf31d36/queryables',\n",
       "    'rel': 'http://www.opengis.net/def/rel/ogc/1.0/queryables',\n",
       "    'type': 'application/schema+json'},\n",
       "   {'href': 'https://services.sentinel-hub.com/api/v1/catalog/1.0.0/collections/byoc-6777e5d3-3309-4771-a38a-79addcf31d36/items',\n",
       "    'rel': 'items',\n",
       "    'type': 'application/geo+json'}]},\n",
       " {'stac_version': '1.0.0',\n",
       "  'stac_extensions': [],\n",
       "  'type': 'Collection',\n",
       "  'id': 'byoc-85909905-6d7a-4181-bc21-21188861df88',\n",
       "  'title': 'ADV - indicators - tmin',\n",
       "  'description': 'ADV - indicators - tmin',\n",
       "  'license': 'proprietary',\n",
       "  'keywords': ['has_tiles_with_sensing_time'],\n",
       "  'providers': [],\n",
       "  'extent': {'spatial': {'bbox': [[-10.474726713,\n",
       "      34.640273188,\n",
       "      34.625273287,\n",
       "      70.040273188]]},\n",
       "   'temporal': {'interval': [['2024-01-01T00:00:00Z',\n",
       "      '2024-01-01T00:00:00Z']]}},\n",
       "  'summaries': {},\n",
       "  'links': [{'href': 'https://services.sentinel-hub.com/api/v1/catalog/1.0.0/',\n",
       "    'rel': 'root',\n",
       "    'type': 'application/json'},\n",
       "   {'href': 'https://services.sentinel-hub.com/api/v1/catalog/1.0.0/collections/byoc-85909905-6d7a-4181-bc21-21188861df88',\n",
       "    'rel': 'self',\n",
       "    'type': 'application/json'},\n",
       "   {'href': 'https://services.sentinel-hub.com/api/v1/catalog/1.0.0/collections',\n",
       "    'rel': 'parent',\n",
       "    'type': 'application/json'},\n",
       "   {'href': 'https://services.sentinel-hub.com/api/v1/catalog/1.0.0/collections/byoc-85909905-6d7a-4181-bc21-21188861df88/queryables',\n",
       "    'rel': 'http://www.opengis.net/def/rel/ogc/1.0/queryables',\n",
       "    'type': 'application/schema+json'},\n",
       "   {'href': 'https://services.sentinel-hub.com/api/v1/catalog/1.0.0/collections/byoc-85909905-6d7a-4181-bc21-21188861df88/items',\n",
       "    'rel': 'items',\n",
       "    'type': 'application/geo+json'}]},\n",
       " {'stac_version': '1.0.0',\n",
       "  'stac_extensions': [],\n",
       "  'type': 'Collection',\n",
       "  'id': 'byoc-97e95ed8-51ce-4f55-a41b-73d957743c52',\n",
       "  'title': 'ADV - indicators - mrsos',\n",
       "  'description': 'ADV - indicators - mrsos',\n",
       "  'license': 'proprietary',\n",
       "  'keywords': ['has_tiles_with_sensing_time'],\n",
       "  'providers': [],\n",
       "  'extent': {'spatial': {'bbox': [[-10.474726713,\n",
       "      34.640273188,\n",
       "      34.625273287,\n",
       "      70.040273188]]},\n",
       "   'temporal': {'interval': [['2024-01-01T00:00:00Z',\n",
       "      '2024-01-01T00:00:00Z']]}},\n",
       "  'summaries': {},\n",
       "  'links': [{'href': 'https://services.sentinel-hub.com/api/v1/catalog/1.0.0/',\n",
       "    'rel': 'root',\n",
       "    'type': 'application/json'},\n",
       "   {'href': 'https://services.sentinel-hub.com/api/v1/catalog/1.0.0/collections/byoc-97e95ed8-51ce-4f55-a41b-73d957743c52',\n",
       "    'rel': 'self',\n",
       "    'type': 'application/json'},\n",
       "   {'href': 'https://services.sentinel-hub.com/api/v1/catalog/1.0.0/collections',\n",
       "    'rel': 'parent',\n",
       "    'type': 'application/json'},\n",
       "   {'href': 'https://services.sentinel-hub.com/api/v1/catalog/1.0.0/collections/byoc-97e95ed8-51ce-4f55-a41b-73d957743c52/queryables',\n",
       "    'rel': 'http://www.opengis.net/def/rel/ogc/1.0/queryables',\n",
       "    'type': 'application/schema+json'},\n",
       "   {'href': 'https://services.sentinel-hub.com/api/v1/catalog/1.0.0/collections/byoc-97e95ed8-51ce-4f55-a41b-73d957743c52/items',\n",
       "    'rel': 'items',\n",
       "    'type': 'application/geo+json'}]},\n",
       " {'stac_version': '1.0.0',\n",
       "  'stac_extensions': [],\n",
       "  'type': 'Collection',\n",
       "  'id': 'byoc-9ca6af76-4e65-4497-97d2-474c5e67d7b9',\n",
       "  'title': 'ADV - indicators - nsat',\n",
       "  'description': 'ADV - indicators - nsat',\n",
       "  'license': 'proprietary',\n",
       "  'keywords': ['has_tiles_with_sensing_time'],\n",
       "  'providers': [],\n",
       "  'extent': {'spatial': {'bbox': [[-10.47473, 34.64027, 34.62527, 70.04027]]},\n",
       "   'temporal': {'interval': [['2024-01-01T00:00:00Z',\n",
       "      '2024-01-01T00:00:00Z']]}},\n",
       "  'summaries': {},\n",
       "  'links': [{'href': 'https://services.sentinel-hub.com/api/v1/catalog/1.0.0/',\n",
       "    'rel': 'root',\n",
       "    'type': 'application/json'},\n",
       "   {'href': 'https://services.sentinel-hub.com/api/v1/catalog/1.0.0/collections/byoc-9ca6af76-4e65-4497-97d2-474c5e67d7b9',\n",
       "    'rel': 'self',\n",
       "    'type': 'application/json'},\n",
       "   {'href': 'https://services.sentinel-hub.com/api/v1/catalog/1.0.0/collections',\n",
       "    'rel': 'parent',\n",
       "    'type': 'application/json'},\n",
       "   {'href': 'https://services.sentinel-hub.com/api/v1/catalog/1.0.0/collections/byoc-9ca6af76-4e65-4497-97d2-474c5e67d7b9/queryables',\n",
       "    'rel': 'http://www.opengis.net/def/rel/ogc/1.0/queryables',\n",
       "    'type': 'application/schema+json'},\n",
       "   {'href': 'https://services.sentinel-hub.com/api/v1/catalog/1.0.0/collections/byoc-9ca6af76-4e65-4497-97d2-474c5e67d7b9/items',\n",
       "    'rel': 'items',\n",
       "    'type': 'application/geo+json'}]},\n",
       " {'stac_version': '1.0.0',\n",
       "  'stac_extensions': [],\n",
       "  'type': 'Collection',\n",
       "  'id': 'byoc-f04e2207-04ce-47f2-af2e-9089cb0ec1fb',\n",
       "  'title': 'ADV - indicators - nsrh',\n",
       "  'description': 'ADV - indicators - nsrh',\n",
       "  'license': 'proprietary',\n",
       "  'keywords': ['has_tiles_with_sensing_time'],\n",
       "  'providers': [],\n",
       "  'extent': {'spatial': {'bbox': [[-10.474726713,\n",
       "      34.640273188,\n",
       "      34.625273287,\n",
       "      70.040273188]]},\n",
       "   'temporal': {'interval': [['2024-01-01T00:00:00Z',\n",
       "      '2024-01-01T00:00:00Z']]}},\n",
       "  'summaries': {},\n",
       "  'links': [{'href': 'https://services.sentinel-hub.com/api/v1/catalog/1.0.0/',\n",
       "    'rel': 'root',\n",
       "    'type': 'application/json'},\n",
       "   {'href': 'https://services.sentinel-hub.com/api/v1/catalog/1.0.0/collections/byoc-f04e2207-04ce-47f2-af2e-9089cb0ec1fb',\n",
       "    'rel': 'self',\n",
       "    'type': 'application/json'},\n",
       "   {'href': 'https://services.sentinel-hub.com/api/v1/catalog/1.0.0/collections',\n",
       "    'rel': 'parent',\n",
       "    'type': 'application/json'},\n",
       "   {'href': 'https://services.sentinel-hub.com/api/v1/catalog/1.0.0/collections/byoc-f04e2207-04ce-47f2-af2e-9089cb0ec1fb/queryables',\n",
       "    'rel': 'http://www.opengis.net/def/rel/ogc/1.0/queryables',\n",
       "    'type': 'application/schema+json'},\n",
       "   {'href': 'https://services.sentinel-hub.com/api/v1/catalog/1.0.0/collections/byoc-f04e2207-04ce-47f2-af2e-9089cb0ec1fb/items',\n",
       "    'rel': 'items',\n",
       "    'type': 'application/geo+json'}]}]"
      ]
     },
     "execution_count": 161,
     "metadata": {},
     "output_type": "execute_result"
    }
   ],
   "source": [
    "collections = catalog.get_collections()\n",
    "\n",
    "collections = [collection for collection in collections if collection[\"title\"].startswith(\"ADV - indicators\")]\n",
    "collections"
   ]
  },
  {
   "cell_type": "markdown",
   "metadata": {},
   "source": [
    "Information about a single collection can also be obtained with the following method:"
   ]
  },
  {
   "cell_type": "code",
   "execution_count": 162,
   "metadata": {},
   "outputs": [],
   "source": [
    "collection_ids = [c[\"id\"] for c in collections]"
   ]
  },
  {
   "cell_type": "code",
   "execution_count": 163,
   "metadata": {},
   "outputs": [
    {
     "data": {
      "text/plain": [
       "{'stac_version': '1.0.0',\n",
       " 'stac_extensions': [],\n",
       " 'type': 'Collection',\n",
       " 'id': 'byoc-088697b8-d145-4ff3-bbb2-87bd94ea0324',\n",
       " 'title': 'ADV - indicators - tavg',\n",
       " 'description': 'ADV - indicators - tavg',\n",
       " 'license': 'proprietary',\n",
       " 'keywords': ['has_tiles_with_sensing_time'],\n",
       " 'providers': [],\n",
       " 'extent': {'spatial': {'bbox': [[-10.474726713,\n",
       "     34.640273188,\n",
       "     34.625273287,\n",
       "     70.040273188]]},\n",
       "  'temporal': {'interval': [['2024-01-01T00:00:00Z',\n",
       "     '2024-01-01T00:00:00Z']]}},\n",
       " 'summaries': {},\n",
       " 'links': [{'href': 'https://services.sentinel-hub.com/api/v1/catalog/1.0.0/',\n",
       "   'rel': 'root',\n",
       "   'type': 'application/json'},\n",
       "  {'href': 'https://services.sentinel-hub.com/api/v1/catalog/1.0.0/collections/byoc-088697b8-d145-4ff3-bbb2-87bd94ea0324',\n",
       "   'rel': 'self',\n",
       "   'type': 'application/json'},\n",
       "  {'href': 'https://services.sentinel-hub.com/api/v1/catalog/1.0.0/collections',\n",
       "   'rel': 'parent',\n",
       "   'type': 'application/json'},\n",
       "  {'href': 'https://services.sentinel-hub.com/api/v1/catalog/1.0.0/collections/byoc-088697b8-d145-4ff3-bbb2-87bd94ea0324/queryables',\n",
       "   'rel': 'http://www.opengis.net/def/rel/ogc/1.0/queryables',\n",
       "   'type': 'application/schema+json'},\n",
       "  {'href': 'https://services.sentinel-hub.com/api/v1/catalog/1.0.0/collections/byoc-088697b8-d145-4ff3-bbb2-87bd94ea0324/items',\n",
       "   'rel': 'items',\n",
       "   'type': 'application/geo+json'}]}"
      ]
     },
     "execution_count": 163,
     "metadata": {},
     "output_type": "execute_result"
    }
   ],
   "source": [
    "catalog.get_collection(collection_ids[0])"
   ]
  },
  {
   "cell_type": "markdown",
   "metadata": {},
   "source": [
    "### Search features in catalog collections"
   ]
  },
  {
   "cell_type": "markdown",
   "metadata": {},
   "source": [
    "For search we can use `SentinelHubCatalog.search` method. The method always requires a data collection, time interval and a bounding box or a geometry. Additionally, we can define various STAC-based query filters which are described in [documentation](https://docs.sentinel-hub.com/api/latest/api/catalog/) and [API definition](https://docs.sentinel-hub.com/api/latest/reference/#operation/postSearchSTAC)."
   ]
  },
  {
   "cell_type": "code",
   "execution_count": 164,
   "metadata": {},
   "outputs": [
    {
     "data": {
      "text/plain": [
       "[{'id': '112a388d-1ac3-454a-bae8-9afe14ae47fe',\n",
       "  'properties': {'datetime': '2024-01-01T00:00:00Z'}}]"
      ]
     },
     "execution_count": 164,
     "metadata": {},
     "output_type": "execute_result"
    }
   ],
   "source": [
    "bbox = BBox(bbox=[-12.128906, 34.885931, 40.781250, 71.965388], crs=CRS.WGS84).transform(CRS.POP_WEB)\n",
    "time_interval = \"2020-12-10\", \"2024-02-01\"\n",
    "\n",
    "search_iterator = catalog.search(\n",
    "    collection_ids[0],\n",
    "    bbox=bbox,\n",
    "    time=time_interval,\n",
    "    fields={\"include\": [\"id\", \"properties.datetime\", \"eo:bands\"], \"exclude\": []},\n",
    ")\n",
    "\n",
    "results = list(search_iterator)\n",
    "results"
   ]
  },
  {
   "cell_type": "code",
   "execution_count": 165,
   "metadata": {},
   "outputs": [
    {
     "data": {
      "text/plain": [
       "{'stac_version': '1.0.0',\n",
       " 'stac_extensions': ['https://stac-extensions.github.io/projection/v1.0.0/schema.json'],\n",
       " 'id': '112a388d-1ac3-454a-bae8-9afe14ae47fe',\n",
       " 'type': 'Feature',\n",
       " 'geometry': {'type': 'Polygon',\n",
       "  'crs': {'type': 'name',\n",
       "   'properties': {'name': 'urn:ogc:def:crs:OGC::CRS84'}},\n",
       "  'coordinates': [[[-10.474726712999939, 34.640273188000045],\n",
       "    [34.62527328700006, 34.640273188000045],\n",
       "    [34.62527328700006, 70.04027318800004],\n",
       "    [-10.474726712999939, 70.04027318800004],\n",
       "    [-10.474726712999939, 34.640273188000045]]]},\n",
       " 'bbox': [-10.474726712999939,\n",
       "  34.640273188000045,\n",
       "  34.62527328700006,\n",
       "  70.04027318800004],\n",
       " 'properties': {'datetime': '2024-01-01T00:00:00Z',\n",
       "  'proj:epsg': 84,\n",
       "  'proj:bbox': [-10.474726712999939,\n",
       "   34.640273188000045,\n",
       "   34.62527328700006,\n",
       "   70.04027318800004],\n",
       "  'proj:geometry': {'type': 'Polygon',\n",
       "   'crs': {'type': 'name',\n",
       "    'properties': {'name': 'urn:ogc:def:crs:OGC::CRS84'}},\n",
       "   'coordinates': [[[-10.474726712999939, 34.640273188000045],\n",
       "     [34.62527328700006, 34.640273188000045],\n",
       "     [34.62527328700006, 70.04027318800004],\n",
       "     [-10.474726712999939, 70.04027318800004],\n",
       "     [-10.474726712999939, 34.640273188000045]]]}},\n",
       " 'assets': {},\n",
       " 'collection': 'byoc-088697b8-d145-4ff3-bbb2-87bd94ea0324',\n",
       " 'links': [{'href': 'https://services.sentinel-hub.com/api/v1/catalog/1.0.0/',\n",
       "   'rel': 'root',\n",
       "   'type': 'application/json'},\n",
       "  {'href': 'https://services.sentinel-hub.com/api/v1/catalog/1.0.0/collections/byoc-088697b8-d145-4ff3-bbb2-87bd94ea0324/items/112a388d-1ac3-454a-bae8-9afe14ae47fe',\n",
       "   'rel': 'self',\n",
       "   'type': 'application/geo+json'},\n",
       "  {'href': 'https://services.sentinel-hub.com/api/v1/catalog/1.0.0/collections/byoc-088697b8-d145-4ff3-bbb2-87bd94ea0324',\n",
       "   'rel': 'parent',\n",
       "   'type': 'application/json'},\n",
       "  {'href': 'https://services.sentinel-hub.com/api/v1/catalog/1.0.0/collections/byoc-088697b8-d145-4ff3-bbb2-87bd94ea0324',\n",
       "   'rel': 'collection',\n",
       "   'type': 'application/json'}]}"
      ]
     },
     "execution_count": 165,
     "metadata": {},
     "output_type": "execute_result"
    }
   ],
   "source": [
    "catalog.get_feature(collection_ids[0], \"112a388d-1ac3-454a-bae8-9afe14ae47fe\")"
   ]
  },
  {
   "cell_type": "markdown",
   "metadata": {},
   "source": [
    "### Combine Catalog API with Process API\n",
    "\n",
    "With Catalog API we were able to get information about available tiles for a given bounding box and time interval. Let's see how we can use this information with [Process API](./process_request.ipynb) to download data for all acquisitions.\n",
    "\n",
    "We can see that many timestamps differ only for a few seconds. That is because they are from tiles in the same orbit acquisition. Because of that, we want to join them together in a single timestamp."
   ]
  },
  {
   "cell_type": "code",
   "execution_count": 166,
   "metadata": {},
   "outputs": [
    {
     "data": {
      "text/plain": [
       "[datetime.datetime(2024, 1, 1, 0, 0, tzinfo=tzutc())]"
      ]
     },
     "execution_count": 166,
     "metadata": {},
     "output_type": "execute_result"
    }
   ],
   "source": [
    "from sentinelhub import MimeType, SentinelHubDownloadClient, SentinelHubRequest, filter_times\n",
    "\n",
    "time_difference = dt.timedelta(hours=1)\n",
    "\n",
    "all_timestamps = search_iterator.get_timestamps()\n",
    "unique_acquisitions = filter_times(all_timestamps, time_difference)\n",
    "\n",
    "unique_acquisitions"
   ]
  },
  {
   "cell_type": "markdown",
   "metadata": {},
   "source": [
    "Next, we create a Process API request for each acquisition:"
   ]
  },
  {
   "cell_type": "code",
   "execution_count": 167,
   "metadata": {},
   "outputs": [],
   "source": [
    "indicator_evalscript = \"\"\"\n",
    "    //VERSION=3\n",
    "\n",
    "    function setup() {\n",
    "        return {\n",
    "            input: [{\n",
    "                bands: [\"tavg_ref_1995_2015\"]\n",
    "            }],\n",
    "            output: {\n",
    "                bands: 1, sampleType: SampleType.FLOAT32\n",
    "            }\n",
    "        };\n",
    "    }\n",
    "\n",
    "    function evaluatePixel(sample) {\n",
    "        return [sample.tavg_ref_1995_2015];\n",
    "    }\n",
    "\"\"\"\n",
    "\n",
    "\n",
    "process_requests = []\n",
    "\n",
    "for timestamp in unique_acquisitions:\n",
    "    request = SentinelHubRequest(\n",
    "        evalscript=indicator_evalscript,\n",
    "        input_data=[\n",
    "            SentinelHubRequest.input_data(\n",
    "                data_collection=DataCollection.define_byoc(collection_ids[0].split(\"byoc-\")[1]),\n",
    "                time_interval=(timestamp - time_difference, timestamp + time_difference),\n",
    "            )\n",
    "        ],\n",
    "        responses=[SentinelHubRequest.output_response(\"default\", MimeType.TIFF)],\n",
    "        bbox=bbox,\n",
    "        resolution=(10000, 10000),\n",
    "        config=config,\n",
    "    )\n",
    "    process_requests.append(request)"
   ]
  },
  {
   "cell_type": "markdown",
   "metadata": {},
   "source": [
    "In order to efficiently download data for all requests in parallel, we extract download information and pass it to a download client."
   ]
  },
  {
   "cell_type": "code",
   "execution_count": 168,
   "metadata": {},
   "outputs": [
    {
     "name": "stdout",
     "output_type": "stream",
     "text": [
      "CPU times: user 26.5 ms, sys: 10.6 ms, total: 37.1 ms\n",
      "Wall time: 1.12 s\n"
     ]
    },
    {
     "data": {
      "text/plain": [
       "(759, 589)"
      ]
     },
     "execution_count": 168,
     "metadata": {},
     "output_type": "execute_result"
    }
   ],
   "source": [
    "%%time\n",
    "\n",
    "client = SentinelHubDownloadClient(config=config)\n",
    "\n",
    "download_requests = [request.download_list[0] for request in process_requests]\n",
    "\n",
    "data = client.download(download_requests)\n",
    "\n",
    "data[0].shape"
   ]
  },
  {
   "cell_type": "code",
   "execution_count": 169,
   "metadata": {},
   "outputs": [],
   "source": [
    "indicator = np.where(data[0] < 0.1, np.nan, data[0])"
   ]
  },
  {
   "cell_type": "code",
   "execution_count": 173,
   "metadata": {},
   "outputs": [
    {
     "data": {
      "text/plain": [
       "Text(0.5, 1.0, 'Average Temperature (Historical 1995-2015)')"
      ]
     },
     "execution_count": 173,
     "metadata": {},
     "output_type": "execute_result"
    },
    {
     "data": {
      "image/png": "[encoded data removed]",
      "text/plain": [
       "<Figure size 1000x1000 with 1 Axes>"
      ]
     },
     "metadata": {},
     "output_type": "display_data"
    }
   ],
   "source": [
    "fig, ax = plt.subplots(figsize=(10, 10))\n",
    "plt.imshow(indicator, vmin=0, vmax=20, cmap=\"RdYlBu_r\")\n",
    "ax.set_title(\"Average Temperature (Historical 1995-2015)\")"
   ]
  },
  {
   "cell_type": "code",
   "execution_count": null,
   "metadata": {},
   "outputs": [],
   "source": []
  }
 ],
 "metadata": {
  "kernelspec": {
   "display_name": "Python 3 (ipykernel)",
   "language": "python",
   "name": "python3"
  },
  "language_info": {
   "codemirror_mode": {
    "name": "ipython",
    "version": 3
   },
   "file_extension": ".py",
   "mimetype": "text/x-python",
   "name": "python",
   "nbconvert_exporter": "python",
   "pygments_lexer": "ipython3",
   "version": "3.11.1"
  }
 },
 "nbformat": 4,
 "nbformat_minor": 4
}
